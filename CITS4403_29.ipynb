{
  "cells": [
    {
      "cell_type": "markdown",
      "metadata": {
        "id": "LcTAuxuhOUNM"
      },
      "source": [
        "# A Model for Slime Mold Foraging Behavior\n",
        "**Group ID:** 29\n",
        "\n",
        "**Presented by:** Kaichao Zheng(24141207), Meng Sun(24002421)\n",
        "\n",
        "---\n",
        "👏In short, we tried to imitate this document following our lab style.\n"
      ]
    },
    {
      "cell_type": "markdown",
      "metadata": {
        "id": "66cQUjwWG29n"
      },
      "source": [
        "# Setup"
      ]
    },
    {
      "cell_type": "markdown",
      "metadata": {
        "id": "X467RNXWaGbB"
      },
      "source": [
        "## Installing Libraries"
      ]
    },
    {
      "cell_type": "code",
      "execution_count": 1,
      "metadata": {
        "colab": {
          "base_uri": "https://localhost:8080/"
        },
        "id": "tGCwk0RPGNHs",
        "outputId": "f8e4c824-dd82-498f-dd24-ed64d23ba112"
      },
      "outputs": [
        {
          "name": "stdout",
          "output_type": "stream",
          "text": [
            "Requirement already satisfied: matplotlib in /usr/local/lib/python3.10/dist-packages (3.7.1)\n",
            "Requirement already satisfied: contourpy>=1.0.1 in /usr/local/lib/python3.10/dist-packages (from matplotlib) (1.3.0)\n",
            "Requirement already satisfied: cycler>=0.10 in /usr/local/lib/python3.10/dist-packages (from matplotlib) (0.12.1)\n",
            "Requirement already satisfied: fonttools>=4.22.0 in /usr/local/lib/python3.10/dist-packages (from matplotlib) (4.54.1)\n",
            "Requirement already satisfied: kiwisolver>=1.0.1 in /usr/local/lib/python3.10/dist-packages (from matplotlib) (1.4.7)\n",
            "Requirement already satisfied: numpy>=1.20 in /usr/local/lib/python3.10/dist-packages (from matplotlib) (1.26.4)\n",
            "Requirement already satisfied: packaging>=20.0 in /usr/local/lib/python3.10/dist-packages (from matplotlib) (24.1)\n",
            "Requirement already satisfied: pillow>=6.2.0 in /usr/local/lib/python3.10/dist-packages (from matplotlib) (10.4.0)\n",
            "Requirement already satisfied: pyparsing>=2.3.1 in /usr/local/lib/python3.10/dist-packages (from matplotlib) (3.1.4)\n",
            "Requirement already satisfied: python-dateutil>=2.7 in /usr/local/lib/python3.10/dist-packages (from matplotlib) (2.8.2)\n",
            "Requirement already satisfied: six>=1.5 in /usr/local/lib/python3.10/dist-packages (from python-dateutil>=2.7->matplotlib) (1.16.0)\n",
            "Requirement already satisfied: pandas in /usr/local/lib/python3.10/dist-packages (2.2.2)\n",
            "Requirement already satisfied: numpy>=1.22.4 in /usr/local/lib/python3.10/dist-packages (from pandas) (1.26.4)\n",
            "Requirement already satisfied: python-dateutil>=2.8.2 in /usr/local/lib/python3.10/dist-packages (from pandas) (2.8.2)\n",
            "Requirement already satisfied: pytz>=2020.1 in /usr/local/lib/python3.10/dist-packages (from pandas) (2024.2)\n",
            "Requirement already satisfied: tzdata>=2022.7 in /usr/local/lib/python3.10/dist-packages (from pandas) (2024.2)\n",
            "Requirement already satisfied: six>=1.5 in /usr/local/lib/python3.10/dist-packages (from python-dateutil>=2.8.2->pandas) (1.16.0)\n",
            "Requirement already satisfied: seaborn in /usr/local/lib/python3.10/dist-packages (0.13.1)\n",
            "Requirement already satisfied: numpy!=1.24.0,>=1.20 in /usr/local/lib/python3.10/dist-packages (from seaborn) (1.26.4)\n",
            "Requirement already satisfied: pandas>=1.2 in /usr/local/lib/python3.10/dist-packages (from seaborn) (2.2.2)\n",
            "Requirement already satisfied: matplotlib!=3.6.1,>=3.4 in /usr/local/lib/python3.10/dist-packages (from seaborn) (3.7.1)\n",
            "Requirement already satisfied: contourpy>=1.0.1 in /usr/local/lib/python3.10/dist-packages (from matplotlib!=3.6.1,>=3.4->seaborn) (1.3.0)\n",
            "Requirement already satisfied: cycler>=0.10 in /usr/local/lib/python3.10/dist-packages (from matplotlib!=3.6.1,>=3.4->seaborn) (0.12.1)\n",
            "Requirement already satisfied: fonttools>=4.22.0 in /usr/local/lib/python3.10/dist-packages (from matplotlib!=3.6.1,>=3.4->seaborn) (4.54.1)\n",
            "Requirement already satisfied: kiwisolver>=1.0.1 in /usr/local/lib/python3.10/dist-packages (from matplotlib!=3.6.1,>=3.4->seaborn) (1.4.7)\n",
            "Requirement already satisfied: packaging>=20.0 in /usr/local/lib/python3.10/dist-packages (from matplotlib!=3.6.1,>=3.4->seaborn) (24.1)\n",
            "Requirement already satisfied: pillow>=6.2.0 in /usr/local/lib/python3.10/dist-packages (from matplotlib!=3.6.1,>=3.4->seaborn) (10.4.0)\n",
            "Requirement already satisfied: pyparsing>=2.3.1 in /usr/local/lib/python3.10/dist-packages (from matplotlib!=3.6.1,>=3.4->seaborn) (3.1.4)\n",
            "Requirement already satisfied: python-dateutil>=2.7 in /usr/local/lib/python3.10/dist-packages (from matplotlib!=3.6.1,>=3.4->seaborn) (2.8.2)\n",
            "Requirement already satisfied: pytz>=2020.1 in /usr/local/lib/python3.10/dist-packages (from pandas>=1.2->seaborn) (2024.2)\n",
            "Requirement already satisfied: tzdata>=2022.7 in /usr/local/lib/python3.10/dist-packages (from pandas>=1.2->seaborn) (2024.2)\n",
            "Requirement already satisfied: six>=1.5 in /usr/local/lib/python3.10/dist-packages (from python-dateutil>=2.7->matplotlib!=3.6.1,>=3.4->seaborn) (1.16.0)\n"
          ]
        }
      ],
      "source": [
        "!pip install matplotlib\n",
        "!pip install pandas\n",
        "!pip install seaborn"
      ]
    },
    {
      "cell_type": "markdown",
      "metadata": {
        "id": "Ui-pveqvZ_VJ"
      },
      "source": [
        "## Downloading Python Scripts"
      ]
    },
    {
      "cell_type": "code",
      "execution_count": 2,
      "metadata": {
        "colab": {
          "base_uri": "https://localhost:8080/"
        },
        "id": "sGhrQqXbaKCK",
        "outputId": "e70411e3-6b4e-4547-e199-602b45ae92cb"
      },
      "outputs": [
        {
          "name": "stdout",
          "output_type": "stream",
          "text": [
            "Downloaded utils.py\n",
            "Downloaded Cell2D.py\n"
          ]
        }
      ],
      "source": [
        "from os.path import basename, exists\n",
        "\n",
        "def download(url):\n",
        "  filename = basename(url)\n",
        "  if not exists(filename):\n",
        "    from urllib.request import urlretrieve\n",
        "    local, _ = urlretrieve(url, filename)\n",
        "    print('Downloaded ' + local)\n",
        "\n",
        "download('https://github.com/AllenDowney/ThinkComplexity2/raw/master/notebooks/utils.py')\n",
        "download('https://github.com/AllenDowney/ThinkComplexity2/raw/master/notebooks/Cell2D.py')"
      ]
    },
    {
      "cell_type": "markdown",
      "metadata": {
        "id": "RW7UJbJvwGWl"
      },
      "source": [
        "# Custom Color Map"
      ]
    },
    {
      "cell_type": "code",
      "execution_count": 3,
      "metadata": {
        "colab": {
          "base_uri": "https://localhost:8080/",
          "height": 131
        },
        "id": "X1IVfI2XwKnt",
        "outputId": "0ee644d4-b235-4a96-e2e5-05e7161db69e"
      },
      "outputs": [
        {
          "data": {
            "image/png": "[encoded data removed]",
            "text/plain": [
              "<Figure size 640x480 with 1 Axes>"
            ]
          },
          "metadata": {},
          "output_type": "display_data"
        }
      ],
      "source": [
        "import seaborn as sns\n",
        "from matplotlib.colors import LinearSegmentedColormap\n",
        "import matplotlib.pyplot as plt\n",
        "import numpy as np\n",
        "\n",
        "# make a custom color map\n",
        "palette = sns.color_palette('muted')\n",
        "colors = [\"white\", \"black\", palette[0], palette[1], palette[2], \"green\", palette[3]]\n",
        "cmap = LinearSegmentedColormap.from_list(\"cmap\", colors)\n",
        "\n",
        "# make a color dict\n",
        "color = {\n",
        "    \"white\" : 0,\n",
        "    \"black\" : 1,\n",
        "    \"blue\" : 2,\n",
        "    \"orange\" : 3,\n",
        "    \"light_green\" : 4,\n",
        "    \"green\" : 5,\n",
        "    \"red\" : 6\n",
        "}\n",
        "\n",
        "# map item to color\n",
        "item_color = {\n",
        "    \"path\" : color[\"white\"],\n",
        "    \"wall\" : color[\"black\"],\n",
        "    \"oat\" : color[\"red\"],\n",
        "    \"mold\" : color[\"green\"],\n",
        "    \"growth\" : color[\"light_green\"]\n",
        "}\n",
        "\n",
        "# demo\n",
        "colors_demo = np.arange(7).reshape(1, -1)\n",
        "draw_params = {'cmap': cmap, 'vmin': 0, 'vmax': 6, 'alpha': 1}\n",
        "\n",
        "color_path = item_color[\"path\"]\n",
        "color_wall = item_color[\"wall\"]\n",
        "color_oat = item_color[\"oat\"]\n",
        "color_mold = item_color[\"mold\"]\n",
        "color_growth = item_color[\"growth\"]\n",
        "\n",
        "# show palette\n",
        "plt.imshow(colors_demo, cmap=cmap, vmin=0, vmax=6)\n",
        "plt.xticks(np.arange(0, colors_demo.shape[1], step=1))\n",
        "plt.yticks([])  # remove y-axis\n",
        "plt.show()"
      ]
    },
    {
      "cell_type": "markdown",
      "metadata": {
        "id": "qAfRA-dZv1Sl"
      },
      "source": [
        "# Model Implementation\n",
        "\n",
        "Atsushi Tero's maze-mold experiment in 2006.\n",
        "\n",
        "> Environment: `maze`\n",
        "* Attribute: `oat_coord`\n",
        "\n",
        "> Agent: `mold`\n",
        "* Attribute: `energy`\n",
        "\n",
        "> Randomness: `seed`\n",
        "* maze carving direction\n",
        "* mold foraging direction"
      ]
    },
    {
      "cell_type": "code",
      "execution_count": 68,
      "metadata": {
        "id": "4vp9Okxv2T3L"
      },
      "outputs": [],
      "source": [
        "from Cell2D import Cell2D, draw_array\n",
        "\n",
        "class SlimeMoldForaging(Cell2D):\n",
        "\n",
        "  def __init__(self, height=19, width=19, max_energy=20, seed=12):\n",
        "      super().__init__(height, width)\n",
        "      np.random.seed(seed)                                      # global seed to unify visualization performance\n",
        "      self.height = height                                      # maze shape\n",
        "      self.width = width\n",
        "      self.max_energy = max_energy\n",
        "      self.maze = np.ones((height, width), dtype=np.int8)       # the environment in this model\n",
        "      self.energy = np.zeros((height, width), dtype=np.int8)    # the agent attribute in this model\n",
        "      self.start_x = np.random.randint(0, (width // 2)) * 2 + 1\n",
        "      self.start_y = np.random.randint(0, (height // 2)) * 2 + 1\n",
        "      self.maze[self.start_y, self.start_x] = 0                 # set starting point as path\n",
        "      self.stack = [(self.start_x, self.start_y)]               # DFS stack for maze generation\n",
        "      self.queue = []                                           # BFS queue for mold foraging\n",
        "      self.action = \"\"                                          # special text command\n",
        "      self.path = []                                            # trace foraging path for mold retraction\n",
        "      self.found = False                                        # found oat flag\n",
        "      self.oat_path = []                                        # preserve oat path\n",
        "\n",
        "  def place_item(self, item):\n",
        "      \"\"\"randomly place item in maze path\"\"\"\n",
        "\n",
        "      \"\"\"\n",
        "      # This model only considers a single slime mold searches for a single oat\n",
        "            if np.any(self.maze == item_color[item]):\n",
        "          return\n",
        "      \"\"\"\n",
        "\n",
        "      paths = np.argwhere(self.maze == color_path)\n",
        "      item_coord = paths[np.random.choice(len(paths))]\n",
        "      self.maze[item_coord[0], item_coord[1]] = item_color[item]\n",
        "\n",
        "      if item in [\"mold\", \"oat\"]:\n",
        "        item_x, item_y = int(item_coord[1]), int(item_coord[0])\n",
        "        self.energy[item_x][item_y] = self.max_energy\n",
        "        if item == \"mold\":  # preprocess BFS queue\n",
        "            self.queue.append((item_x, item_y, [(item_x, item_y)]))\n",
        "\n",
        "  def carve_pathway_step(self):\n",
        "      \"\"\"generate paths using DFS\"\"\"\n",
        "\n",
        "      while self.stack:\n",
        "        x, y = self.stack[-1]\n",
        "        carve_directions = [(0, 2), (0, -2), (2, 0), (-2, 0)]\n",
        "        np.random.shuffle(carve_directions)\n",
        "\n",
        "        carved = False  # dead end flag to prevent cycle in maze\n",
        "        for dx, dy in carve_directions:\n",
        "            nx = x + dx\n",
        "            ny = y + dy\n",
        "            if 0 <= nx < self.maze.shape[1] and 0 <= ny < self.maze.shape[0]:\n",
        "                if self.maze[ny][nx] == color_wall:\n",
        "                    self.maze[y + dy // 2][x + dx // 2] = 0\n",
        "                    self.maze[ny][nx] = color_path\n",
        "                    self.stack.append((nx, ny))\n",
        "                    carved = True\n",
        "                    break\n",
        "        # dead end\n",
        "        if not carved:\n",
        "            self.stack.pop()\n",
        "\n",
        "        # special command for steps visualization\n",
        "        if \"step\" in self.action:\n",
        "            break\n",
        "\n",
        "  def place_petri_dish(self):\n",
        "      \"\"\"a subtitution environment rather than a maze\"\"\"\n",
        "\n",
        "      # Set the borders as walls\n",
        "      self.maze[0, :] = color_wall\n",
        "      self.maze[-1, :] = color_wall\n",
        "      self.maze[:, 0] = color_wall\n",
        "      self.maze[:, -1] = color_wall\n",
        "\n",
        "      # Empty the inside\n",
        "      self.maze[1:-1, 1:-1] = color_path\n",
        "\n",
        "      # Special command for steps visualization (still no developed)\n",
        "      if \"step\" in self.action:\n",
        "          pass  # if you want to visualize step by step\n",
        "\n",
        "  def forage_step(self):\n",
        "      \"\"\"mold spreads using BFS with energy constraint\"\"\"\n",
        "\n",
        "      while self.queue:\n",
        "        x, y, path = self.queue.pop(0)\n",
        "        forage_directions = [(0, 1), (0, -1), (1, 0), (-1, 0)]\n",
        "        for dx, dy in forage_directions:\n",
        "            nx, ny = x + dx, y + dy\n",
        "\n",
        "            if 0 <= ny < self.maze.shape[1] and 0 <= ny < self.maze.shape[0]:\n",
        "              # pseudopodia keep spreading after find the oat\n",
        "              if self.maze[ny][nx] in [color_path, color_oat]:\n",
        "                if self.maze[ny][nx] != color_oat:\n",
        "                  # consume energy when spreading\n",
        "                  if self.energy[x][y] > 0:\n",
        "                    self.maze[ny][nx] = color_growth\n",
        "                    self.energy[nx][ny] = self.energy[x][y] - 1\n",
        "                    self.queue.append((nx, ny, path+[(nx, ny)]))\n",
        "                    self.path.append((nx, ny))\n",
        "                  else:\n",
        "                    # stop spreading when energy used out\n",
        "                    continue\n",
        "                else:\n",
        "                    # if reaching oat, recharge energy\n",
        "                    self.found = True\n",
        "                    self.energy[nx][ny] = self.max_energy\n",
        "                    self.queue.append((nx, ny, path+[(nx, ny)]))\n",
        "                    self.oat_path.append(path)\n",
        "\n",
        "        # special command for steps visualization\n",
        "        if \"step\" in self.action:\n",
        "            break\n",
        "\n",
        "  def retract_step(self):\n",
        "      \"\"\"mold retraction using traced path when foraging\"\"\"\n",
        "\n",
        "      while self.path:\n",
        "        x, y = self.path.pop()\n",
        "\n",
        "        # retain the path to oat\n",
        "        if self.found and (x, y) in self.oat_path[-2]:\n",
        "          continue\n",
        "\n",
        "        if self.maze[y][x] == 4:\n",
        "          self.maze[y][x] = 0\n",
        "\n",
        "        if \"step\" in self.action:\n",
        "          break\n",
        "\n",
        "  def find_oat(self):\n",
        "      \"\"\"used for survival rate calculation\"\"\"\n",
        "      return 1 if self.oat_path else 0\n",
        "\n",
        "  def step(self):\n",
        "      \"\"\"model evolves by special text commands in self.progress\"\"\"\n",
        "\n",
        "      if \"carve\" in self.action:\n",
        "          self.carve_pathway_step()\n",
        "      elif \"petri_dish\" in self.action:\n",
        "          self.place_petri_dish()\n",
        "      elif \"forage\" in self.action:\n",
        "          self.forage_step()\n",
        "      elif \"retract\" in self.action:\n",
        "          self.retract_step()\n",
        "\n",
        "  def draw(self, nparray=\"maze\"):\n",
        "      draw_array(getattr(self, nparray), **draw_params)\n",
        "\n",
        "  def draw_with_energy(self, array=None, annotations=None):\n",
        "      \"\"\"port annotate_ca_text(array, annotations) from CA lab2\"\"\"\n",
        "\n",
        "      if array is None:\n",
        "        array = self.maze\n",
        "      if annotations is None:\n",
        "        annotations = self.energy\n",
        "\n",
        "      rows, cols = array.shape\n",
        "      ax = plt.gca()\n",
        "\n",
        "      # Remove minor ticks\n",
        "      ax.tick_params(which='minor', bottom=False, left=False)\n",
        "\n",
        "      for i in range(annotations.shape[0]):\n",
        "        for j in range(annotations.shape[1]):\n",
        "          ax.text(i, j, str(annotations[i, j]), ha='center', va='center', fontsize=10)\n",
        "\n",
        "      plt.imshow(array, cmap=cmap, vmin=0, vmax=6, interpolation='none')\n",
        "      plt.axis('off')\n",
        "\n",
        "  def three_frame(self, n_seq):\n",
        "      \"\"\"port three_frame() from utils.py\"\"\"\n",
        "      plt.figure(figsize=(10, 4))\n",
        "\n",
        "      for i, n in enumerate(n_seq):\n",
        "        plt.subplot(1, 3, i+1)\n",
        "        self.loop(n)\n",
        "        self.draw()\n",
        "\n",
        "      plt.tight_layout()"
      ]
    },
    {
      "cell_type": "markdown",
      "metadata": {
        "id": "22V8o8cwlvBm"
      },
      "source": [
        "# Maze Initialization\n",
        "\n"
      ]
    },
    {
      "cell_type": "markdown",
      "metadata": {
        "id": "uvFn8OnW6bGd"
      },
      "source": [
        "## 1.1 Carving Pathway"
      ]
    },
    {
      "cell_type": "code",
      "execution_count": 69,
      "metadata": {
        "colab": {
          "base_uri": "https://localhost:8080/",
          "height": 406
        },
        "id": "hYz0W4GgcJ-p",
        "outputId": "8829a40e-1ec3-49b0-af59-6d4b471bf0a4"
      },
      "outputs": [
        {
          "data": {
            "image/png": "[encoded data removed]",
            "text/plain": [
              "<Figure size 640x480 with 1 Axes>"
            ]
          },
          "metadata": {},
          "output_type": "display_data"
        }
      ],
      "source": [
        "# width and height should preferably be odd nunmbers\n",
        "env = SlimeMoldForaging(height=19, width=19, max_energy=20, seed=12)    # seed = 12 has good features in recharge and retraction\n",
        "env.action = \"carve_pathway\"\n",
        "#env.action = \"place_petri_dish\"            # 培养皿环境，无需逐步可视化\n",
        "env.step()\n",
        "env.draw()"
      ]
    },
    {
      "cell_type": "markdown",
      "metadata": {
        "id": "k-WmtKc8ASYM"
      },
      "source": [
        "## 1.2 Place Mold and Oat"
      ]
    },
    {
      "cell_type": "code",
      "execution_count": 70,
      "metadata": {
        "colab": {
          "base_uri": "https://localhost:8080/",
          "height": 406
        },
        "id": "x0azjI1x36n2",
        "outputId": "b4197e98-94b5-4feb-b007-5cfb56ebffab"
      },
      "outputs": [
        {
          "data": {
            "image/png": "[encoded data removed]",
            "text/plain": [
              "<Figure size 640x480 with 1 Axes>"
            ]
          },
          "metadata": {},
          "output_type": "display_data"
        }
      ],
      "source": [
        "env.place_item(\"mold\")                                                  # present mold in green\n",
        "for n in range(3):\n",
        "    env.place_item(\"oat\")                                               # present oats in red\n",
        "env.draw()"
      ]
    },
    {
      "cell_type": "markdown",
      "metadata": {
        "id": "HNBANXL7ccLk"
      },
      "source": [
        "## 1.3 Progress Visualization"
      ]
    },
    {
      "cell_type": "code",
      "execution_count": 55,
      "metadata": {
        "colab": {
          "base_uri": "https://localhost:8080/",
          "height": 350
        },
        "id": "sHrzlD8IHsDV",
        "outputId": "4bad781a-9dbf-4f36-c650-98926e29ae31"
      },
      "outputs": [
        {
          "data": {
            "image/png": "[encoded data removed]",
            "text/plain": [
              "<Figure size 1000x400 with 3 Axes>"
            ]
          },
          "metadata": {},
          "output_type": "display_data"
        }
      ],
      "source": [
        "# Pathway carving frames\n",
        "demo = SlimeMoldForaging(height=19, width=19, max_energy=20, seed=12)   # seed = 12 has good features in recharge and retraction\n",
        "demo.action = \"carve_pathway_in_steps\"\n",
        "demo.three_frame([0, 50, 100])                                          # display carving frames at 0, 50 and 150 steps"
      ]
    },
    {
      "cell_type": "code",
      "execution_count": 22,
      "metadata": {
        "colab": {
          "base_uri": "https://localhost:8080/",
          "height": 406
        },
        "id": "NsdvprYD0ZA2",
        "outputId": "585451f6-0bc7-4f07-81ce-b9456c820e45"
      },
      "outputs": [
        {
          "data": {
            "image/png": "[encoded data removed]",
            "text/plain": [
              "<Figure size 640x480 with 1 Axes>"
            ]
          },
          "metadata": {},
          "output_type": "display_data"
        }
      ],
      "source": [
        "# Pathway carving animation\n",
        "demo = SlimeMoldForaging(height=19, width=19, max_energy=20, seed=12)   # seed = 12 has good features in recharge and retraction\n",
        "demo.action = \"carve_pathway_in_steps\"\n",
        "demo.animate(frames=150)                                                # show carving animation from step 0 to 150"
      ]
    },
    {
      "cell_type": "markdown",
      "metadata": {
        "id": "M2Pu45PJ8qLf"
      },
      "source": [
        "# Mold Foraging with Energy Constraint"
      ]
    },
    {
      "cell_type": "markdown",
      "metadata": {
        "id": "DVFCERH37owH"
      },
      "source": [
        "## 2.1 Mold Foraging"
      ]
    },
    {
      "cell_type": "code",
      "execution_count": 71,
      "metadata": {
        "colab": {
          "base_uri": "https://localhost:8080/",
          "height": 406
        },
        "id": "tIfg1EqI7F3y",
        "outputId": "23618c45-e7ee-4c6a-a6ae-4a8b83f68d0f"
      },
      "outputs": [
        {
          "data": {
            "image/png": "[encoded data removed]",
            "text/plain": [
              "<Figure size 640x480 with 1 Axes>"
            ]
          },
          "metadata": {},
          "output_type": "display_data"
        }
      ],
      "source": [
        "env.action = \"forage\"\n",
        "env.step()\n",
        "env.draw()"
      ]
    },
    {
      "cell_type": "code",
      "execution_count": 24,
      "metadata": {
        "colab": {
          "base_uri": "https://localhost:8080/",
          "height": 406
        },
        "id": "JrXGa7DCdRy9",
        "outputId": "4c425d9b-9d5a-4d8e-9378-eab669414c42"
      },
      "outputs": [
        {
          "data": {
            "image/png": "[encoded data removed]",
            "text/plain": [
              "<Figure size 640x480 with 1 Axes>"
            ]
          },
          "metadata": {},
          "output_type": "display_data"
        }
      ],
      "source": [
        "env.draw_with_energy()                                                  # show energy distribution"
      ]
    },
    {
      "cell_type": "markdown",
      "metadata": {
        "id": "-CjRBfd73VTC"
      },
      "source": [
        "## 2.2 Progress Visualization"
      ]
    },
    {
      "cell_type": "code",
      "execution_count": 25,
      "metadata": {
        "colab": {
          "base_uri": "https://localhost:8080/",
          "height": 350
        },
        "id": "8PRdpL-y3c99",
        "outputId": "73e9692b-dd0e-48f0-d6b4-9e888d7a01e1"
      },
      "outputs": [
        {
          "data": {
            "image/png": "[encoded data removed]",
            "text/plain": [
              "<Figure size 1000x400 with 3 Axes>"
            ]
          },
          "metadata": {},
          "output_type": "display_data"
        }
      ],
      "source": [
        "# Mold Foraging frames\n",
        "demo = SlimeMoldForaging(height=19, width=19, max_energy=20, seed=12)   # seed = 12 has good features in recharge and inactivation\n",
        "demo.action = \"carve_pathway\"\n",
        "demo.step()\n",
        "demo.place_item(\"mold\")                                                 # present mold in green\n",
        "for n in range(3):\n",
        "    demo.place_item(\"oat\")                                              # present oats in red\n",
        "demo.action = \"forage_in_steps\"\n",
        "demo.three_frame([0, 50, 100])                                          # display foraging frames at 0, 50 and 150 steps"
      ]
    },
    {
      "cell_type": "code",
      "execution_count": 26,
      "metadata": {
        "colab": {
          "base_uri": "https://localhost:8080/",
          "height": 406
        },
        "id": "D9U_CkP133Dl",
        "outputId": "6639c84d-15c5-45d0-8f5b-ebe883178ecb"
      },
      "outputs": [
        {
          "data": {
            "image/png": "[encoded data removed]",
            "text/plain": [
              "<Figure size 640x480 with 1 Axes>"
            ]
          },
          "metadata": {},
          "output_type": "display_data"
        }
      ],
      "source": [
        "# Mold foraging animation\n",
        "demo = SlimeMoldForaging(height=19, width=19, max_energy=20, seed=12)   # seed = 12 has good features in recharge and inactivation\n",
        "demo.action = \"carve_pathway\"\n",
        "demo.step()\n",
        "demo.place_item(\"mold\")                                                 # present mold in green\n",
        "for n in range(3):\n",
        "    demo.place_item(\"oat\")                                              # present oats in red\n",
        "demo.action = \"forage_in_steps\"\n",
        "demo.animate(frames=100)                                                # show foraging animation from step 0 to 100"
      ]
    },
    {
      "cell_type": "markdown",
      "metadata": {
        "id": "Y6gKEi56b_oK"
      },
      "source": [
        "# Mold Retraction Triggered by Starvation"
      ]
    },
    {
      "cell_type": "markdown",
      "metadata": {
        "id": "xHPYmjetcB1T"
      },
      "source": [
        "## 3.1 Mold Retraction"
      ]
    },
    {
      "cell_type": "code",
      "execution_count": 72,
      "metadata": {
        "colab": {
          "base_uri": "https://localhost:8080/",
          "height": 406
        },
        "id": "te1KuZmqcE5r",
        "outputId": "5f8d2908-1345-46bb-eca3-c2a1d926c2d5"
      },
      "outputs": [
        {
          "data": {
            "image/png": "[encoded data removed]",
            "text/plain": [
              "<Figure size 640x480 with 1 Axes>"
            ]
          },
          "metadata": {},
          "output_type": "display_data"
        }
      ],
      "source": [
        "env.action = \"retract\"\n",
        "env.step()\n",
        "env.draw()"
      ]
    },
    {
      "cell_type": "markdown",
      "metadata": {
        "id": "-rVN3CGkcKiI"
      },
      "source": [
        "## 3.2 Progress Visualization"
      ]
    },
    {
      "cell_type": "code",
      "execution_count": 65,
      "metadata": {
        "colab": {
          "base_uri": "https://localhost:8080/",
          "height": 350
        },
        "id": "Wxj7XsiAcL7I",
        "outputId": "55aab235-1647-4688-b320-3341fd104470"
      },
      "outputs": [
        {
          "data": {
            "image/png": "[encoded data removed]",
            "text/plain": [
              "<Figure size 1000x400 with 3 Axes>"
            ]
          },
          "metadata": {},
          "output_type": "display_data"
        }
      ],
      "source": [
        "# Mold retraction frames\n",
        "demo = SlimeMoldForaging(height=19, width=19, max_energy=20, seed=12)    # seed = 12 has good features in recharge and retraction\n",
        "demo.action = \"carve_pathway\"\n",
        "demo.step()\n",
        "demo.place_item(\"mold\")                                                  # present mold in green\n",
        "for n in range(3):\n",
        "    demo.place_item(\"oat\")                                               # present oats in red\n",
        "demo.action = \"forage\"\n",
        "demo.step()\n",
        "demo.action = \"retract_in_steps\"\n",
        "demo.three_frame([0, 30, 60])                                            # display retraction frames at 0, 30 and 60 steps"
      ]
    },
    {
      "cell_type": "code",
      "execution_count": 66,
      "metadata": {
        "colab": {
          "base_uri": "https://localhost:8080/",
          "height": 406
        },
        "id": "srdIzIejcbnw",
        "outputId": "aaa150a9-40ca-475d-acd3-968b4cd2c187"
      },
      "outputs": [
        {
          "data": {
            "image/png": "[encoded data removed]",
            "text/plain": [
              "<Figure size 640x480 with 1 Axes>"
            ]
          },
          "metadata": {},
          "output_type": "display_data"
        }
      ],
      "source": [
        "# Mold retraction animation\n",
        "demo = SlimeMoldForaging(height=19, width=19, max_energy=20, seed=12)   # seed = 12 has good features in recharge and retraction\n",
        "demo.action = \"carve_pathway\"\n",
        "demo.step()\n",
        "demo.place_item(\"mold\")                                                 # present mold in green\n",
        "for n in range(3):\n",
        "    demo.place_item(\"oat\")                                              # present oats in red\n",
        "demo.action = \"forage\"\n",
        "demo.step()\n",
        "demo.action = \"retract_in_steps\"\n",
        "demo.animate(frames=80)                                                 # show foraging animation from step 0 to 80"
      ]
    },
    {
      "cell_type": "markdown",
      "metadata": {
        "id": "5aEmV6rLchVz"
      },
      "source": [
        "# Survival Rate Curve\n",
        "\n",
        "Now, we assumpt the maze only has **a single mold** and **a single oat**.\n",
        "\n",
        "If the mold cannot find the oat with energy constraint, it will die in the end.\n",
        "\n",
        "### **Caution:**\n",
        "\n",
        "O(n³) time complexity for 200,000 times simulation.\n",
        "\n",
        "Expected runtime could be several minutes."
      ]
    },
    {
      "cell_type": "code",
      "execution_count": null,
      "metadata": {
        "colab": {
          "base_uri": "https://localhost:8080/",
          "height": 487
        },
        "id": "PGxEH8B_ciib",
        "outputId": "3f15b091-7c3a-4e0c-d3c3-56866269ca2c"
      },
      "outputs": [
        {
          "data": {
            "image/png": "[encoded data removed]",
            "text/plain": [
              "<Figure size 640x480 with 1 Axes>"
            ]
          },
          "metadata": {},
          "output_type": "display_data"
        }
      ],
      "source": [
        "from utils import set_palette, decorate\n",
        "set_palette('Blues', 5, reverse=True)\n",
        "\n",
        "for p in [19,29,39,49]:\n",
        "    segs = []\n",
        "    for energy in range(50):\n",
        "        is_find = 0\n",
        "        num_simu = 1000\n",
        "        for seeds in range(num_simu):\n",
        "            demo = SlimeMoldForaging(height=p, width=p, max_energy=energy, seed=seeds)\n",
        "            demo.action = \"carve_pathway\"\n",
        "            demo.step()\n",
        "            demo.place_item(\"mold\")\n",
        "            demo.place_item(\"oat\")\n",
        "            demo.action = \"forage\"\n",
        "            demo.step()\n",
        "            is_find += demo.find_oat()\n",
        "        p_find = is_find / num_simu\n",
        "        segs.append(p_find)\n",
        "    plt.plot(segs, label='Size = %d' % p)\n",
        "\n",
        "decorate(xlabel='Max Energy', ylabel='Survival Rate', loc='best', ylim=[0, 1])\n",
        "\n",
        "# Caution:\n",
        "# O(n³) time complexity for 200,000 times simulation.\n",
        "# Expected runtime could be several minutes."
      ]
    },
    {
      "cell_type": "markdown",
      "metadata": {
        "id": "daQWcJB_yqxQ"
      },
      "source": [
        "# Model Application"
      ]
    },
    {
      "cell_type": "markdown",
      "metadata": {
        "id": "4AYa30iWy6MH"
      },
      "source": [
        "## 4.1 Slime Mold Inspired City Network Design\n",
        "\n",
        "Atsushi Tero's renowned experiment which published in the journal *Science* in 2010.\n",
        "\n",
        "The slime mold in this experiment ultimately drew a network on a wall-less Petri dish that closely resembles the Tokyo-area railway system"
      ]
    },
    {
      "cell_type": "code",
      "execution_count": null,
      "metadata": {
        "id": "qEuicr640Ey1"
      },
      "outputs": [],
      "source": []
    },
    {
      "cell_type": "markdown",
      "metadata": {
        "id": "4IkmRd0p4a5M"
      },
      "source": [
        "# Development Logs"
      ]
    },
    {
      "cell_type": "markdown",
      "metadata": {
        "id": "VdoLdwoE4prc"
      },
      "source": [
        "> 5 Oct, 2024\n",
        "* Begin logging\n",
        "* Introduce energy constraint in `forage_step()`\n",
        "  * Add `energy: np.ndarray` as energy map of maze\n",
        "* Add `draw_with_energy()` to visualize energy loss when foraging\n",
        "  * Swap the index of `'green'` and `'light_green'` in **Custom Color Map**\n",
        "* Unify random seeds for visualiazation to achieve reliable reproduction\n",
        "\n",
        "> 6 Oct, 2024\n",
        "* Update **Setup**\n",
        "  * Add `!pip install scipy` for the local execution of cross-correlation principle\n",
        "* Git-based multiple cooperation\n",
        "  * Init logs there\n",
        "  * Unify variable naming style between `carve_pathway_step` and `forage_step()`\n",
        "\n",
        "> 7 Oct, 2024\n",
        "* Port `three_frame()` from `utils.py`\n",
        "* Update **Setup**\n",
        "  * Remove redundant `mkdir` in **Setup**\n",
        "* Add `die_step()`\n",
        "* Add **Survival Rate Curve**\n",
        "\n",
        "> 8 Oct, 2024\n",
        "* Add markdown subtitles and format them\n",
        "* Rename `die_step()` -> `retract_step`\n",
        "* Remove `!pip install scipy` in **Setup**\n",
        "* Rewrite function comments in English\n",
        "* Remove **NumPy Array Quick Reviews**\n",
        "* Improving Aesthetics of **Survival Rate Curve**\n",
        "\n",
        "> 9 Oct, 2024\n",
        "* Update title\n",
        "* Add caution comment in **Survival Rate Curve**\n",
        "\n",
        "> 10 Oct, 2024\n",
        "* Begin to work on multiple oat model\n",
        "  * Remove the number constraint of oats in `place_item()`\n",
        "* Add `place_petri_dish` as another option of `curve_pathway`\n",
        "\n",
        "> Todo\n",
        "* `retract_step()`对多燕麦的兼容性"
      ]
    }
  ],
  "metadata": {
    "colab": {
      "provenance": [],
      "toc_visible": true
    },
    "kernelspec": {
      "display_name": "Python 3",
      "name": "python3"
    },
    "language_info": {
      "codemirror_mode": {
        "name": "ipython",
        "version": 3
      },
      "file_extension": ".py",
      "mimetype": "text/x-python",
      "name": "python",
      "nbconvert_exporter": "python",
      "pygments_lexer": "ipython3",
      "version": "3.11.9"
    }
  },
  "nbformat": 4,
  "nbformat_minor": 0
}
