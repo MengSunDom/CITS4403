{
  "cells": [
    {
      "cell_type": "markdown",
      "metadata": {
        "id": "LcTAuxuhOUNM"
      },
      "source": [
        "# A Model for Slime Mold Foraging Behavior\n",
        "**Group ID:** 29\n",
        "\n",
        "**Presented by:** Kaichao Zheng(24141207), Meng Sun(24002421)\n",
        "\n",
        "---\n",
        "👏In short, we tried to imitate this document following our lab style.\n"
      ]
    },
    {
      "cell_type": "markdown",
      "metadata": {
        "id": "66cQUjwWG29n"
      },
      "source": [
        "# Setup"
      ]
    },
    {
      "cell_type": "markdown",
      "metadata": {
        "id": "X467RNXWaGbB"
      },
      "source": [
        "## Installing Libraries"
      ]
    },
    {
      "cell_type": "code",
      "execution_count": 1,
      "metadata": {
        "colab": {
          "base_uri": "https://localhost:8080/"
        },
        "id": "tGCwk0RPGNHs",
        "outputId": "f5cf2cf8-1932-47ab-b958-dfd79349785a"
      },
      "outputs": [
        {
          "name": "stdout",
          "output_type": "stream",
          "text": [
            "Requirement already satisfied: matplotlib in /usr/local/lib/python3.10/dist-packages (3.7.1)\n",
            "Requirement already satisfied: contourpy>=1.0.1 in /usr/local/lib/python3.10/dist-packages (from matplotlib) (1.3.0)\n",
            "Requirement already satisfied: cycler>=0.10 in /usr/local/lib/python3.10/dist-packages (from matplotlib) (0.12.1)\n",
            "Requirement already satisfied: fonttools>=4.22.0 in /usr/local/lib/python3.10/dist-packages (from matplotlib) (4.54.1)\n",
            "Requirement already satisfied: kiwisolver>=1.0.1 in /usr/local/lib/python3.10/dist-packages (from matplotlib) (1.4.7)\n",
            "Requirement already satisfied: numpy>=1.20 in /usr/local/lib/python3.10/dist-packages (from matplotlib) (1.26.4)\n",
            "Requirement already satisfied: packaging>=20.0 in /usr/local/lib/python3.10/dist-packages (from matplotlib) (24.1)\n",
            "Requirement already satisfied: pillow>=6.2.0 in /usr/local/lib/python3.10/dist-packages (from matplotlib) (10.4.0)\n",
            "Requirement already satisfied: pyparsing>=2.3.1 in /usr/local/lib/python3.10/dist-packages (from matplotlib) (3.1.4)\n",
            "Requirement already satisfied: python-dateutil>=2.7 in /usr/local/lib/python3.10/dist-packages (from matplotlib) (2.8.2)\n",
            "Requirement already satisfied: six>=1.5 in /usr/local/lib/python3.10/dist-packages (from python-dateutil>=2.7->matplotlib) (1.16.0)\n",
            "Requirement already satisfied: pandas in /usr/local/lib/python3.10/dist-packages (2.2.2)\n",
            "Requirement already satisfied: numpy>=1.22.4 in /usr/local/lib/python3.10/dist-packages (from pandas) (1.26.4)\n",
            "Requirement already satisfied: python-dateutil>=2.8.2 in /usr/local/lib/python3.10/dist-packages (from pandas) (2.8.2)\n",
            "Requirement already satisfied: pytz>=2020.1 in /usr/local/lib/python3.10/dist-packages (from pandas) (2024.2)\n",
            "Requirement already satisfied: tzdata>=2022.7 in /usr/local/lib/python3.10/dist-packages (from pandas) (2024.2)\n",
            "Requirement already satisfied: six>=1.5 in /usr/local/lib/python3.10/dist-packages (from python-dateutil>=2.8.2->pandas) (1.16.0)\n",
            "Requirement already satisfied: seaborn in /usr/local/lib/python3.10/dist-packages (0.13.2)\n",
            "Requirement already satisfied: numpy!=1.24.0,>=1.20 in /usr/local/lib/python3.10/dist-packages (from seaborn) (1.26.4)\n",
            "Requirement already satisfied: pandas>=1.2 in /usr/local/lib/python3.10/dist-packages (from seaborn) (2.2.2)\n",
            "Requirement already satisfied: matplotlib!=3.6.1,>=3.4 in /usr/local/lib/python3.10/dist-packages (from seaborn) (3.7.1)\n",
            "Requirement already satisfied: contourpy>=1.0.1 in /usr/local/lib/python3.10/dist-packages (from matplotlib!=3.6.1,>=3.4->seaborn) (1.3.0)\n",
            "Requirement already satisfied: cycler>=0.10 in /usr/local/lib/python3.10/dist-packages (from matplotlib!=3.6.1,>=3.4->seaborn) (0.12.1)\n",
            "Requirement already satisfied: fonttools>=4.22.0 in /usr/local/lib/python3.10/dist-packages (from matplotlib!=3.6.1,>=3.4->seaborn) (4.54.1)\n",
            "Requirement already satisfied: kiwisolver>=1.0.1 in /usr/local/lib/python3.10/dist-packages (from matplotlib!=3.6.1,>=3.4->seaborn) (1.4.7)\n",
            "Requirement already satisfied: packaging>=20.0 in /usr/local/lib/python3.10/dist-packages (from matplotlib!=3.6.1,>=3.4->seaborn) (24.1)\n",
            "Requirement already satisfied: pillow>=6.2.0 in /usr/local/lib/python3.10/dist-packages (from matplotlib!=3.6.1,>=3.4->seaborn) (10.4.0)\n",
            "Requirement already satisfied: pyparsing>=2.3.1 in /usr/local/lib/python3.10/dist-packages (from matplotlib!=3.6.1,>=3.4->seaborn) (3.1.4)\n",
            "Requirement already satisfied: python-dateutil>=2.7 in /usr/local/lib/python3.10/dist-packages (from matplotlib!=3.6.1,>=3.4->seaborn) (2.8.2)\n",
            "Requirement already satisfied: pytz>=2020.1 in /usr/local/lib/python3.10/dist-packages (from pandas>=1.2->seaborn) (2024.2)\n",
            "Requirement already satisfied: tzdata>=2022.7 in /usr/local/lib/python3.10/dist-packages (from pandas>=1.2->seaborn) (2024.2)\n",
            "Requirement already satisfied: six>=1.5 in /usr/local/lib/python3.10/dist-packages (from python-dateutil>=2.7->matplotlib!=3.6.1,>=3.4->seaborn) (1.16.0)\n"
          ]
        }
      ],
      "source": [
        "!pip install matplotlib\n",
        "!pip install pandas\n",
        "!pip install seaborn"
      ]
    },
    {
      "cell_type": "markdown",
      "metadata": {
        "id": "Ui-pveqvZ_VJ"
      },
      "source": [
        "## Downloading Python Scripts"
      ]
    },
    {
      "cell_type": "code",
      "execution_count": 2,
      "metadata": {
        "colab": {
          "base_uri": "https://localhost:8080/"
        },
        "id": "sGhrQqXbaKCK",
        "outputId": "c3a2846f-f482-4d5d-f94c-2e099ad86e68"
      },
      "outputs": [
        {
          "name": "stdout",
          "output_type": "stream",
          "text": [
            "Downloaded utils.py\n",
            "Downloaded Cell2D.py\n"
          ]
        }
      ],
      "source": [
        "from os.path import basename, exists\n",
        "\n",
        "def download(url):\n",
        "  filename = basename(url)\n",
        "  if not exists(filename):\n",
        "    from urllib.request import urlretrieve\n",
        "    local, _ = urlretrieve(url, filename)\n",
        "    print('Downloaded ' + local)\n",
        "\n",
        "download('https://github.com/AllenDowney/ThinkComplexity2/raw/master/notebooks/utils.py')\n",
        "download('https://github.com/AllenDowney/ThinkComplexity2/raw/master/notebooks/Cell2D.py')"
      ]
    },
    {
      "cell_type": "markdown",
      "metadata": {
        "id": "RW7UJbJvwGWl"
      },
      "source": [
        "# Custom Color Map"
      ]
    },
    {
      "cell_type": "code",
      "execution_count": 1,
      "metadata": {
        "colab": {
          "base_uri": "https://localhost:8080/",
          "height": 131
        },
        "id": "X1IVfI2XwKnt",
        "outputId": "ddbdc447-2b0c-4e79-a4c2-d4c1a7c9a7a2"
      },
      "outputs": [
        {
          "data": {
            "image/png": "[encoded data removed]",
            "text/plain": [
              "<Figure size 640x480 with 1 Axes>"
            ]
          },
          "metadata": {},
          "output_type": "display_data"
        }
      ],
      "source": [
        "import seaborn as sns\n",
        "from matplotlib.colors import LinearSegmentedColormap\n",
        "import matplotlib.pyplot as plt\n",
        "import numpy as np\n",
        "\n",
        "# make a custom color map\n",
        "palette = sns.color_palette('muted')\n",
        "colors = [\"white\", \"black\", palette[0], palette[1], palette[2], \"green\", palette[3]]\n",
        "cmap = LinearSegmentedColormap.from_list(\"cmap\", colors)\n",
        "\n",
        "# make a color dict\n",
        "color = {\n",
        "    \"white\" : 0,\n",
        "    \"black\" : 1,\n",
        "    \"blue\" : 2,\n",
        "    \"orange\" : 3,\n",
        "    \"light_green\" : 4,\n",
        "    \"green\" : 5,\n",
        "    \"red\" : 6\n",
        "}\n",
        "\n",
        "# map item to color\n",
        "item_color = {\n",
        "    \"path\" : color[\"white\"],\n",
        "    \"wall\" : color[\"black\"],\n",
        "    \"oat\" : color[\"red\"],\n",
        "    \"mold\" : color[\"green\"],\n",
        "    \"growth\" : color[\"light_green\"]\n",
        "}\n",
        "\n",
        "# demo\n",
        "colors_demo = np.arange(7).reshape(1, -1)\n",
        "draw_params = {'cmap': cmap, 'vmin': 0, 'vmax': 6, 'alpha': 1}\n",
        "\n",
        "color_path = item_color[\"path\"]\n",
        "color_wall = item_color[\"wall\"]\n",
        "color_oat = item_color[\"oat\"]\n",
        "color_mold = item_color[\"mold\"]\n",
        "color_growth = item_color[\"growth\"]\n",
        "\n",
        "# show palette\n",
        "plt.imshow(colors_demo, cmap=cmap, vmin=0, vmax=6)\n",
        "plt.xticks(np.arange(0, colors_demo.shape[1], step=1))\n",
        "plt.yticks([])  # remove y-axis\n",
        "plt.show()"
      ]
    },
    {
      "cell_type": "markdown",
      "metadata": {
        "id": "qAfRA-dZv1Sl"
      },
      "source": [
        "# Model Implementation\n",
        "\n",
        "[Atsushi Tero's](https://en.wikipedia.org/wiki/Atsushi_Tero) maze-mold experiment in 2006.\n",
        "\n",
        "<img src=\"https://i.gzn.jp/img/2016/12/26/slime-molds/cap00010_m.jpg\" alt=\"img\"  />\n",
        "\n",
        "> Environment: `maze`\n",
        "* Attribute: `wall`, `oat`\n",
        "\n",
        "> Agent: `mold`\n",
        "* Attribute: `energy`, `forage_directions`\n",
        "\n",
        "> Randomness: `seed`\n",
        "* maze carving direction\n",
        "* mold foraging direction"
      ]
    },
    {
      "cell_type": "code",
      "execution_count": 3,
      "metadata": {
        "id": "4vp9Okxv2T3L"
      },
      "outputs": [],
      "source": [
        "from Cell2D import Cell2D, draw_array\n",
        "\n",
        "class SlimeMoldForaging(Cell2D):\n",
        "\n",
        "  def __init__(self, height=19, width=19, max_energy=20, seed=12):\n",
        "      super().__init__(height, width)\n",
        "      np.random.seed(seed)                                      # global seed to unify visualization performance\n",
        "      self.height = height                                      # maze shape\n",
        "      self.width = width\n",
        "      self.max_energy = max_energy\n",
        "      self.maze = np.ones((height, width), dtype=np.int8)       # the environment in this model\n",
        "      self.energy = np.zeros((height, width), dtype=np.int8)    # the agent attribute in this model\n",
        "      self.start_x = np.random.randint(0, (width // 2)) * 2 + 1\n",
        "      self.start_y = np.random.randint(0, (height // 2)) * 2 + 1\n",
        "      self.maze[self.start_y, self.start_x] = 0                 # set starting point as path\n",
        "      self.stack = [(self.start_x, self.start_y)]               # DFS stack for maze generation\n",
        "      self.queue = []                                           # BFS queue for mold foraging\n",
        "      self.action = \"\"                                          # special text command\n",
        "      self.path = []                                            # trace foraging path for mold retraction\n",
        "      self.found = []                                           # oat found flags\n",
        "      self.oat_path = []                                        # preserve oat path\n",
        "\n",
        "  def place_item(self, item):\n",
        "      \"\"\"randomly place item in maze path\"\"\"\n",
        "\n",
        "      paths = np.argwhere(self.maze == color_path)\n",
        "      item_coord = paths[np.random.choice(len(paths))]\n",
        "      self.maze[item_coord[0], item_coord[1]] = item_color[item]\n",
        "\n",
        "      if item in [\"mold\", \"oat\"]:\n",
        "        item_x, item_y = int(item_coord[1]), int(item_coord[0])\n",
        "        self.energy[item_x][item_y] = self.max_energy\n",
        "        if item == \"mold\":  # preprocess BFS queue\n",
        "            self.queue.append((item_x, item_y, [(item_x, item_y)]))\n",
        "\n",
        "  def carve_pathway_step(self):\n",
        "      \"\"\"generate paths using DFS\"\"\"\n",
        "\n",
        "      while self.stack:\n",
        "        x, y = self.stack[-1]\n",
        "        carve_directions = [(0, 2), (0, -2), (2, 0), (-2, 0)]\n",
        "        np.random.shuffle(carve_directions)\n",
        "\n",
        "        carved = False  # dead end flag to prevent cycle in maze\n",
        "        for dx, dy in carve_directions:\n",
        "            nx = x + dx\n",
        "            ny = y + dy\n",
        "            if 0 <= nx < self.maze.shape[1] and 0 <= ny < self.maze.shape[0]:\n",
        "                if self.maze[ny][nx] == color_wall:\n",
        "                    self.maze[y + dy // 2][x + dx // 2] = 0\n",
        "                    self.maze[ny][nx] = color_path\n",
        "                    self.stack.append((nx, ny))\n",
        "                    carved = True\n",
        "                    break\n",
        "        # dead end\n",
        "        if not carved:\n",
        "            self.stack.pop()\n",
        "\n",
        "        # special command for steps visualization\n",
        "        if \"step\" in self.action:\n",
        "            break\n",
        "\n",
        "  def place_petri_dish(self):\n",
        "      \"\"\"a subtitution environment for future work\"\"\"\n",
        "\n",
        "      # Set the borders as walls\n",
        "      self.maze[0, :] = color_wall\n",
        "      self.maze[-1, :] = color_wall\n",
        "      self.maze[:, 0] = color_wall\n",
        "      self.maze[:, -1] = color_wall\n",
        "\n",
        "      # Empty the inside\n",
        "      self.maze[1:-1, 1:-1] = color_path\n",
        "\n",
        "      # Special command for steps visualization (still no developed)\n",
        "      if \"step\" in self.action:\n",
        "          pass  # placeholder for steps visualization future work\n",
        "\n",
        "  def forage_step(self):\n",
        "      \"\"\"mold spreads using BFS with energy constraint\"\"\"\n",
        "\n",
        "      while self.queue:\n",
        "        x, y, path = self.queue.pop(0)\n",
        "        forage_directions = [(0, 1), (0, -1), (1, 0), (-1, 0)]\n",
        "        for dx, dy in forage_directions:\n",
        "            nx, ny = x + dx, y + dy\n",
        "\n",
        "            if 0 <= ny < self.maze.shape[1] and 0 <= ny < self.maze.shape[0]:\n",
        "              # pseudopodia keep spreading after find the oat\n",
        "              if self.maze[ny][nx] in [color_path, color_oat]:\n",
        "                if self.maze[ny][nx] != color_oat:\n",
        "                  # consume energy when spreading\n",
        "                  if self.energy[x][y] > 0:\n",
        "                    self.maze[ny][nx] = color_growth\n",
        "                    self.energy[nx][ny] = self.energy[x][y] - 1\n",
        "                    self.queue.append((nx, ny, path+[(nx, ny)]))\n",
        "                    self.path.append((nx, ny))\n",
        "                  else:\n",
        "                    # stop spreading when energy used out\n",
        "                    continue\n",
        "                else:\n",
        "                    # if reaching oat, recharge energy\n",
        "                    if (nx, ny) not in self.found:\n",
        "                      self.found.append((nx, ny))\n",
        "                      self.energy[nx][ny] = self.max_energy\n",
        "                      self.queue.append((nx, ny, path+[(nx, ny)]))\n",
        "                      self.oat_path.extend(path)\n",
        "\n",
        "        # special command for steps visualization\n",
        "        if \"step\" in self.action:\n",
        "            break\n",
        "\n",
        "  def retract_step(self):\n",
        "      \"\"\"mold retraction using traced path when foraging\"\"\"\n",
        "\n",
        "      while self.path:\n",
        "        x, y = self.path.pop()\n",
        "\n",
        "        # retain the path to oat\n",
        "        if (x, y) in self.oat_path:\n",
        "          continue\n",
        "\n",
        "        if self.maze[y][x] == color_growth:\n",
        "          self.maze[y][x] = color_path\n",
        "\n",
        "        if \"step\" in self.action:\n",
        "          break\n",
        "\n",
        "  def find_oat(self):\n",
        "      \"\"\"used for survival rate calculation\"\"\"\n",
        "      return 1 if self.oat_path else 0\n",
        "\n",
        "  def step(self):\n",
        "      \"\"\"model evolves by special text commands in self.progress\"\"\"\n",
        "\n",
        "      if \"carve\" in self.action:\n",
        "          self.carve_pathway_step()\n",
        "      elif \"petri_dish\" in self.action:\n",
        "          self.place_petri_dish()\n",
        "      elif \"forage\" in self.action:\n",
        "          self.forage_step()\n",
        "      elif \"retract\" in self.action:\n",
        "          self.retract_step()\n",
        "\n",
        "  def draw(self, nparray=\"maze\"):\n",
        "      draw_array(getattr(self, nparray), **draw_params)\n",
        "\n",
        "  def draw_with_energy(self, array=None, annotations=None):\n",
        "      \"\"\"modified annotate_ca_text(array, annotations) from CA lab2\"\"\"\n",
        "\n",
        "      if array is None:\n",
        "        array = self.maze\n",
        "      if annotations is None:\n",
        "        annotations = self.energy\n",
        "\n",
        "      rows, cols = array.shape\n",
        "      ax = plt.gca()\n",
        "\n",
        "      # Remove minor ticks\n",
        "      ax.tick_params(which='minor', bottom=False, left=False)\n",
        "\n",
        "      for i in range(annotations.shape[0]):\n",
        "        for j in range(annotations.shape[1]):\n",
        "          ax.text(i, j, str(annotations[i, j]), ha='center', va='center', fontsize=10)\n",
        "\n",
        "      plt.imshow(array, cmap=cmap, vmin=0, vmax=6, interpolation='none')\n",
        "      plt.axis('off')\n",
        "\n",
        "  def three_frame(self, n_seq):\n",
        "      \"\"\"port three_frame() from utils.py\"\"\"\n",
        "      plt.figure(figsize=(10, 4))\n",
        "\n",
        "      for i, n in enumerate(n_seq):\n",
        "        plt.subplot(1, 3, i+1)\n",
        "        self.loop(n)\n",
        "        self.draw()\n",
        "\n",
        "      plt.tight_layout()"
      ]
    },
    {
      "cell_type": "markdown",
      "metadata": {
        "id": "22V8o8cwlvBm"
      },
      "source": [
        "# Maze Initialization\n",
        "\n"
      ]
    },
    {
      "cell_type": "markdown",
      "metadata": {
        "id": "uvFn8OnW6bGd"
      },
      "source": [
        "## 1.1 Carving Pathway"
      ]
    },
    {
      "cell_type": "code",
      "execution_count": 4,
      "metadata": {
        "colab": {
          "base_uri": "https://localhost:8080/",
          "height": 406
        },
        "id": "hYz0W4GgcJ-p",
        "outputId": "26f4ee5c-c033-4abe-8062-ac8dbabbbc44"
      },
      "outputs": [
        {
          "data": {
            "image/png": "[encoded data removed]",
            "text/plain": [
              "<Figure size 640x480 with 1 Axes>"
            ]
          },
          "metadata": {},
          "output_type": "display_data"
        }
      ],
      "source": [
        "# width and height should preferably be odd nunmbers\n",
        "env = SlimeMoldForaging(height=19, width=19, max_energy=20, seed=12)    # seed = 12 has good features in recharge and retraction\n",
        "env.action = \"carve_pathway\"\n",
        "env.step()\n",
        "env.draw()"
      ]
    },
    {
      "cell_type": "markdown",
      "metadata": {
        "id": "k-WmtKc8ASYM"
      },
      "source": [
        "## 1.2 Place Mold and Oat"
      ]
    },
    {
      "cell_type": "code",
      "execution_count": 5,
      "metadata": {
        "colab": {
          "base_uri": "https://localhost:8080/",
          "height": 406
        },
        "id": "x0azjI1x36n2",
        "outputId": "10a4121b-f70d-431f-a887-016fe5bc4382"
      },
      "outputs": [
        {
          "data": {
            "image/png": "[encoded data removed]",
            "text/plain": [
              "<Figure size 640x480 with 1 Axes>"
            ]
          },
          "metadata": {},
          "output_type": "display_data"
        }
      ],
      "source": [
        "env.place_item(\"mold\")                                                  # present mold in green\n",
        "for n in range(3):\n",
        "    env.place_item(\"oat\")                                               # present oats in red\n",
        "env.draw()"
      ]
    },
    {
      "cell_type": "markdown",
      "metadata": {
        "id": "HNBANXL7ccLk"
      },
      "source": [
        "## 1.3 Progress Visualization"
      ]
    },
    {
      "cell_type": "code",
      "execution_count": 6,
      "metadata": {
        "colab": {
          "base_uri": "https://localhost:8080/",
          "height": 350
        },
        "id": "sHrzlD8IHsDV",
        "outputId": "071fb03c-0e80-4964-8cc5-1e50e8c8f554"
      },
      "outputs": [
        {
          "data": {
            "image/png": "[encoded data removed]",
            "text/plain": [
              "<Figure size 1000x400 with 3 Axes>"
            ]
          },
          "metadata": {},
          "output_type": "display_data"
        }
      ],
      "source": [
        "# Pathway carving frames\n",
        "demo = SlimeMoldForaging(height=19, width=19, max_energy=20, seed=12)   # seed = 12 has good features in recharge and retraction\n",
        "demo.action = \"carve_pathway_in_steps\"\n",
        "demo.three_frame([0, 50, 100])                                          # display carving frames at 0, 50 and 150 steps"
      ]
    },
    {
      "cell_type": "code",
      "execution_count": 7,
      "metadata": {
        "colab": {
          "base_uri": "https://localhost:8080/",
          "height": 406
        },
        "id": "NsdvprYD0ZA2",
        "outputId": "efa85935-e463-4f30-e3c9-1b58da1079c9"
      },
      "outputs": [
        {
          "data": {
            "image/png": "[encoded data removed]",
            "text/plain": [
              "<Figure size 640x480 with 1 Axes>"
            ]
          },
          "metadata": {},
          "output_type": "display_data"
        }
      ],
      "source": [
        "# Pathway carving animation\n",
        "demo = SlimeMoldForaging(height=19, width=19, max_energy=20, seed=12)   # seed = 12 has good features in recharge and retraction\n",
        "demo.action = \"carve_pathway_in_steps\"\n",
        "demo.animate(frames=150)                                                # show carving animation from step 0 to 150"
      ]
    },
    {
      "cell_type": "markdown",
      "metadata": {
        "id": "M2Pu45PJ8qLf"
      },
      "source": [
        "# Mold Foraging with Energy Constraint"
      ]
    },
    {
      "cell_type": "markdown",
      "metadata": {
        "id": "DVFCERH37owH"
      },
      "source": [
        "## 2.1 Mold Foraging"
      ]
    },
    {
      "cell_type": "code",
      "execution_count": 8,
      "metadata": {
        "colab": {
          "base_uri": "https://localhost:8080/",
          "height": 406
        },
        "id": "tIfg1EqI7F3y",
        "outputId": "6ececa28-4051-4059-c74b-136b43d60890"
      },
      "outputs": [
        {
          "data": {
            "image/png": "[encoded data removed]",
            "text/plain": [
              "<Figure size 640x480 with 1 Axes>"
            ]
          },
          "metadata": {},
          "output_type": "display_data"
        }
      ],
      "source": [
        "env.action = \"forage\"\n",
        "env.step()\n",
        "env.draw_with_energy()                                                  # show energy distribution"
      ]
    },
    {
      "cell_type": "markdown",
      "metadata": {
        "id": "-CjRBfd73VTC"
      },
      "source": [
        "## 2.2 Progress Visualization"
      ]
    },
    {
      "cell_type": "code",
      "execution_count": 9,
      "metadata": {
        "colab": {
          "base_uri": "https://localhost:8080/",
          "height": 350
        },
        "id": "8PRdpL-y3c99",
        "outputId": "ee9da2e3-19d9-41dc-e16d-eef20b82fe0b"
      },
      "outputs": [
        {
          "data": {
            "image/png": "[encoded data removed]",
            "text/plain": [
              "<Figure size 1000x400 with 3 Axes>"
            ]
          },
          "metadata": {},
          "output_type": "display_data"
        }
      ],
      "source": [
        "# Mold Foraging frames\n",
        "demo = SlimeMoldForaging(height=19, width=19, max_energy=20, seed=12)   # seed = 12 has good features in recharge and inactivation\n",
        "demo.action = \"carve_pathway\"\n",
        "demo.step()\n",
        "demo.place_item(\"mold\")                                                 # present mold in green\n",
        "for n in range(3):\n",
        "    demo.place_item(\"oat\")                                              # present oats in red\n",
        "demo.action = \"forage_in_steps\"\n",
        "demo.three_frame([0, 50, 100])                                          # display foraging frames at 0, 50 and 150 steps"
      ]
    },
    {
      "cell_type": "code",
      "execution_count": 10,
      "metadata": {
        "colab": {
          "base_uri": "https://localhost:8080/",
          "height": 406
        },
        "id": "D9U_CkP133Dl",
        "outputId": "51597b45-8169-4300-fa1e-0535b572bfc9"
      },
      "outputs": [
        {
          "data": {
            "image/png": "[encoded data removed]",
            "text/plain": [
              "<Figure size 640x480 with 1 Axes>"
            ]
          },
          "metadata": {},
          "output_type": "display_data"
        }
      ],
      "source": [
        "# Mold foraging animation\n",
        "demo = SlimeMoldForaging(height=19, width=19, max_energy=20, seed=12)   # seed = 12 has good features in recharge and inactivation\n",
        "demo.action = \"carve_pathway\"\n",
        "demo.step()\n",
        "demo.place_item(\"mold\")                                                 # present mold in green\n",
        "for n in range(3):\n",
        "    demo.place_item(\"oat\")                                              # present oats in red\n",
        "demo.action = \"forage_in_steps\"\n",
        "demo.animate(frames=100)                                                # show foraging animation from step 0 to 100"
      ]
    },
    {
      "cell_type": "markdown",
      "metadata": {
        "id": "Y6gKEi56b_oK"
      },
      "source": [
        "# Mold Retraction Triggered by Starvation"
      ]
    },
    {
      "cell_type": "markdown",
      "metadata": {
        "id": "xHPYmjetcB1T"
      },
      "source": [
        "## 3.1 Mold Retraction"
      ]
    },
    {
      "cell_type": "code",
      "execution_count": 11,
      "metadata": {
        "colab": {
          "base_uri": "https://localhost:8080/",
          "height": 406
        },
        "id": "te1KuZmqcE5r",
        "outputId": "e195cf31-51b6-4c7b-dd64-62c26779bfa5"
      },
      "outputs": [
        {
          "data": {
            "image/png": "[encoded data removed]",
            "text/plain": [
              "<Figure size 640x480 with 1 Axes>"
            ]
          },
          "metadata": {},
          "output_type": "display_data"
        }
      ],
      "source": [
        "env.action = \"retract\"\n",
        "env.step()\n",
        "env.draw()"
      ]
    },
    {
      "cell_type": "markdown",
      "metadata": {
        "id": "-rVN3CGkcKiI"
      },
      "source": [
        "## 3.2 Progress Visualization"
      ]
    },
    {
      "cell_type": "code",
      "execution_count": 12,
      "metadata": {
        "colab": {
          "base_uri": "https://localhost:8080/",
          "height": 350
        },
        "id": "Wxj7XsiAcL7I",
        "outputId": "6b719c29-10d9-4efd-a54b-668be5d5519d"
      },
      "outputs": [
        {
          "data": {
            "image/png": "[encoded data removed]",
            "text/plain": [
              "<Figure size 1000x400 with 3 Axes>"
            ]
          },
          "metadata": {},
          "output_type": "display_data"
        }
      ],
      "source": [
        "# Mold retraction frames\n",
        "demo = SlimeMoldForaging(height=19, width=19, max_energy=20, seed=12)    # seed = 12 has good features in recharge and retraction\n",
        "demo.action = \"carve_pathway\"\n",
        "demo.step()\n",
        "demo.place_item(\"mold\")                                                  # present mold in green\n",
        "for n in range(3):\n",
        "    demo.place_item(\"oat\")                                               # present oats in red\n",
        "demo.action = \"forage\"\n",
        "demo.step()\n",
        "demo.action = \"retract_in_steps\"\n",
        "demo.three_frame([0, 30, 50])                                            # display retraction frames at 0, 30 and 80 steps"
      ]
    },
    {
      "cell_type": "code",
      "execution_count": 13,
      "metadata": {
        "colab": {
          "base_uri": "https://localhost:8080/",
          "height": 406
        },
        "id": "srdIzIejcbnw",
        "outputId": "e420ff16-7753-47a0-9e68-90ae83e5ef79"
      },
      "outputs": [
        {
          "data": {
            "image/png": "[encoded data removed]",
            "text/plain": [
              "<Figure size 640x480 with 1 Axes>"
            ]
          },
          "metadata": {},
          "output_type": "display_data"
        }
      ],
      "source": [
        "# Mold retraction animation\n",
        "demo = SlimeMoldForaging(height=19, width=19, max_energy=20, seed=12)   # seed = 12 has good features in recharge and retraction\n",
        "demo.action = \"carve_pathway\"\n",
        "demo.step()\n",
        "demo.place_item(\"mold\")                                                 # present mold in green\n",
        "for n in range(3):\n",
        "    demo.place_item(\"oat\")                                              # present oats in red\n",
        "demo.action = \"forage\"\n",
        "demo.step()\n",
        "demo.action = \"retract_in_steps\"\n",
        "demo.animate(frames=100)                                                # show foraging animation from step 0 to 100"
      ]
    },
    {
      "cell_type": "markdown",
      "metadata": {
        "id": "5aEmV6rLchVz"
      },
      "source": [
        "# Survival Rate Curve\n",
        "\n",
        "Now, we assumpt the maze only has **a single mold** and **a single oat**.\n",
        "\n",
        "If the mold cannot find the oat with energy constraint, it will die in the end.\n",
        "\n",
        "### **Caution:**\n",
        "\n",
        "O(n³) time complexity for 200,000 times simulation.\n",
        "\n",
        "Expected runtime could be several minutes."
      ]
    },
    {
      "cell_type": "code",
      "execution_count": null,
      "metadata": {
        "colab": {
          "base_uri": "https://localhost:8080/",
          "height": 487
        },
        "id": "PGxEH8B_ciib",
        "outputId": "3f15b091-7c3a-4e0c-d3c3-56866269ca2c"
      },
      "outputs": [
        {
          "data": {
            "image/png": "[encoded data removed]",
            "text/plain": [
              "<Figure size 640x480 with 1 Axes>"
            ]
          },
          "metadata": {},
          "output_type": "display_data"
        }
      ],
      "source": [
        "from utils import set_palette, decorate\n",
        "set_palette('Blues', 5, reverse=True)\n",
        "\n",
        "for p in [19,29,39,49]:\n",
        "    segs = []\n",
        "    for energy in range(50):\n",
        "        is_find = 0\n",
        "        num_simu = 1000\n",
        "        for seeds in range(num_simu):\n",
        "            demo = SlimeMoldForaging(height=p, width=p, max_energy=energy, seed=seeds)\n",
        "            demo.action = \"carve_pathway\"\n",
        "            demo.step()\n",
        "            demo.place_item(\"mold\")\n",
        "            demo.place_item(\"oat\")\n",
        "            demo.action = \"forage\"\n",
        "            demo.step()\n",
        "            is_find += demo.find_oat()\n",
        "        p_find = is_find / num_simu\n",
        "        segs.append(p_find)\n",
        "    plt.plot(segs, label='Size = %d' % p)\n",
        "\n",
        "decorate(xlabel='Max Energy', ylabel='Survival Rate', loc='best', ylim=[0, 1])\n",
        "\n",
        "# Caution:\n",
        "# O(n³) time complexity for 200,000 times simulation.\n",
        "# Expected runtime could be several minutes."
      ]
    },
    {
      "cell_type": "markdown",
      "metadata": {
        "id": "daQWcJB_yqxQ"
      },
      "source": [
        "# Model Application"
      ]
    },
    {
      "cell_type": "markdown",
      "metadata": {
        "id": "4AYa30iWy6MH"
      },
      "source": [
        "## 4.1 Slime Mold Inspired City Network Design\n",
        "\n",
        "[Atsushi Tero's](https://en.wikipedia.org/wiki/Atsushi_Tero) renowned mold-network experiment which published in the journal *Science* in 2010.\n",
        "\n",
        "The slime mold in this experiment ultimately drew a network on a wall-less Petri dish that closely resembles the Tokyo-area railway system\n",
        "\n",
        "<img src=\"https://s2.loli.net/2024/10/11/IYTs1VkcKjUBHom.png\" alt=\"2.png\"  />"
      ]
    },
    {
      "cell_type": "markdown",
      "metadata": {
        "id": "gWQW7w-8pXMl"
      },
      "source": [
        "## 4.2 Implementation and Visualisation"
      ]
    },
    {
      "cell_type": "markdown",
      "metadata": {
        "id": "i9izt959pXMm"
      },
      "source": [
        "Now, let's place a single mold on a **Petri dish** and scatter several oats around it."
      ]
    },
    {
      "cell_type": "code",
      "execution_count": 21,
      "metadata": {
        "colab": {
          "base_uri": "https://localhost:8080/",
          "height": 406
        },
        "id": "4JSdBuEfpXMm",
        "outputId": "86386b51-4a91-4356-e551-7102ed975f0a"
      },
      "outputs": [
        {
          "data": {
            "image/png": "[encoded data removed]",
            "text/plain": [
              "<Figure size 640x480 with 1 Axes>"
            ]
          },
          "metadata": {},
          "output_type": "display_data"
        }
      ],
      "source": [
        "env2 = SlimeMoldForaging(height=19, width=19, max_energy=20, seed=36)    # seed = 36 is good for the shortest paths visualisation\n",
        "env2.action = \"place_petri_dish\"\n",
        "env2.step()\n",
        "env2.place_item(\"mold\")\n",
        "for n in range(5):\n",
        "    env2.place_item(\"oat\")\n",
        "env2.draw()\n"
      ]
    },
    {
      "cell_type": "markdown",
      "metadata": {
        "id": "NiOSWhSFpXMm"
      },
      "source": [
        "Using the same foraging and retraction strategies as in the **maze** environment, the mold eventually finds all oats within its energy constraint."
      ]
    },
    {
      "cell_type": "code",
      "execution_count": 22,
      "metadata": {
        "colab": {
          "base_uri": "https://localhost:8080/",
          "height": 406
        },
        "id": "qajmK0_cpXMq",
        "outputId": "643dbaa2-18a2-4191-dfdc-bbcb8490d85c"
      },
      "outputs": [
        {
          "data": {
            "image/png": "[encoded data removed]",
            "text/plain": [
              "<Figure size 640x480 with 1 Axes>"
            ]
          },
          "metadata": {},
          "output_type": "display_data"
        }
      ],
      "source": [
        "env2.action = \"forage\"\n",
        "env2.step()\n",
        "env2.action = \"retract\"\n",
        "env2.step()\n",
        "env2.draw_with_energy()"
      ]
    },
    {
      "cell_type": "code",
      "execution_count": 23,
      "metadata": {},
      "outputs": [
        {
          "data": {
            "image/png": "[encoded data removed]",
            "text/plain": [
              "<Figure size 640x480 with 1 Axes>"
            ]
          },
          "metadata": {},
          "output_type": "display_data"
        }
      ],
      "source": [
        "# Mold retraction animation\n",
        "demo2 = SlimeMoldForaging(height=19, width=19, max_energy=20, seed=36)    # seed = 36 is good for the shortest paths visualisation\n",
        "demo2.action = \"place_petri_dish\"\n",
        "demo2.step()\n",
        "demo2.place_item(\"mold\")\n",
        "for n in range(5):\n",
        "    demo2.place_item(\"oat\")\n",
        "demo2.draw()\n",
        "demo2.action = \"forage\"\n",
        "demo2.step()\n",
        "demo2.action = \"retract_in_steps\"\n",
        "demo2.animate(frames=300) "
      ]
    },
    {
      "cell_type": "markdown",
      "metadata": {
        "id": "FKrT5l86pXMq"
      },
      "source": [
        "Evidently, these `oat_paths` are **the shortest paths**.\n",
        "\n",
        "* The rectangular shape of oat paths is due to our assumption of non-diagonal foraging directions.\n",
        "\n",
        "* For future work, we aim to train the mold to find out the shortest **oat-to-oat** paths in this spacious \"maze\" to draw the network layout among \"cities\"."
      ]
    }
  ],
  "metadata": {
    "colab": {
      "provenance": [],
      "toc_visible": true
    },
    "kernelspec": {
      "display_name": "Python 3",
      "name": "python3"
    },
    "language_info": {
      "codemirror_mode": {
        "name": "ipython",
        "version": 3
      },
      "file_extension": ".py",
      "mimetype": "text/x-python",
      "name": "python",
      "nbconvert_exporter": "python",
      "pygments_lexer": "ipython3",
      "version": "3.11.9"
    }
  },
  "nbformat": 4,
  "nbformat_minor": 0
}
