{
  "cells": [
    {
      "cell_type": "markdown",
      "metadata": {
        "id": "LcTAuxuhOUNM"
      },
      "source": [
        "# The Foraging of Slime Mold\n",
        "\n",
        "👏In short, we tried to imitate this document following our lab style.\n",
        "\n",
        "\n",
        "---\n",
        "\n"
      ]
    },
    {
      "cell_type": "markdown",
      "metadata": {
        "id": "66cQUjwWG29n"
      },
      "source": [
        "# Setup\n",
        "\n",
        "## Installing Libraries"
      ]
    },
    {
      "cell_type": "code",
      "execution_count": 119,
      "metadata": {
        "colab": {
          "base_uri": "https://localhost:8080/"
        },
        "id": "tGCwk0RPGNHs",
        "outputId": "9b8ee9d6-ebf4-4a64-d705-cf3451e7ba01"
      },
      "outputs": [
        {
          "name": "stdout",
          "output_type": "stream",
          "text": [
            "Requirement already satisfied: matplotlib in c:\\users\\六一\\appdata\\local\\packages\\pythonsoftwarefoundation.python.3.11_qbz5n2kfra8p0\\localcache\\local-packages\\python311\\site-packages (3.9.2)\n",
            "Requirement already satisfied: contourpy>=1.0.1 in c:\\users\\六一\\appdata\\local\\packages\\pythonsoftwarefoundation.python.3.11_qbz5n2kfra8p0\\localcache\\local-packages\\python311\\site-packages (from matplotlib) (1.3.0)\n",
            "Requirement already satisfied: cycler>=0.10 in c:\\users\\六一\\appdata\\local\\packages\\pythonsoftwarefoundation.python.3.11_qbz5n2kfra8p0\\localcache\\local-packages\\python311\\site-packages (from matplotlib) (0.12.1)\n",
            "Requirement already satisfied: fonttools>=4.22.0 in c:\\users\\六一\\appdata\\local\\packages\\pythonsoftwarefoundation.python.3.11_qbz5n2kfra8p0\\localcache\\local-packages\\python311\\site-packages (from matplotlib) (4.53.1)\n",
            "Requirement already satisfied: kiwisolver>=1.3.1 in c:\\users\\六一\\appdata\\local\\packages\\pythonsoftwarefoundation.python.3.11_qbz5n2kfra8p0\\localcache\\local-packages\\python311\\site-packages (from matplotlib) (1.4.7)\n",
            "Requirement already satisfied: numpy>=1.23 in c:\\users\\六一\\appdata\\local\\packages\\pythonsoftwarefoundation.python.3.11_qbz5n2kfra8p0\\localcache\\local-packages\\python311\\site-packages (from matplotlib) (2.1.1)\n",
            "Requirement already satisfied: packaging>=20.0 in c:\\users\\六一\\appdata\\local\\packages\\pythonsoftwarefoundation.python.3.11_qbz5n2kfra8p0\\localcache\\local-packages\\python311\\site-packages (from matplotlib) (24.1)\n",
            "Requirement already satisfied: pillow>=8 in c:\\users\\六一\\appdata\\local\\packages\\pythonsoftwarefoundation.python.3.11_qbz5n2kfra8p0\\localcache\\local-packages\\python311\\site-packages (from matplotlib) (10.4.0)\n",
            "Requirement already satisfied: pyparsing>=2.3.1 in c:\\users\\六一\\appdata\\local\\packages\\pythonsoftwarefoundation.python.3.11_qbz5n2kfra8p0\\localcache\\local-packages\\python311\\site-packages (from matplotlib) (3.1.4)\n",
            "Requirement already satisfied: python-dateutil>=2.7 in c:\\users\\六一\\appdata\\local\\packages\\pythonsoftwarefoundation.python.3.11_qbz5n2kfra8p0\\localcache\\local-packages\\python311\\site-packages (from matplotlib) (2.9.0.post0)\n",
            "Requirement already satisfied: six>=1.5 in c:\\users\\六一\\appdata\\local\\packages\\pythonsoftwarefoundation.python.3.11_qbz5n2kfra8p0\\localcache\\local-packages\\python311\\site-packages (from python-dateutil>=2.7->matplotlib) (1.16.0)\n",
            "Requirement already satisfied: pandas in c:\\users\\六一\\appdata\\local\\packages\\pythonsoftwarefoundation.python.3.11_qbz5n2kfra8p0\\localcache\\local-packages\\python311\\site-packages (2.2.3)\n",
            "Requirement already satisfied: numpy>=1.23.2 in c:\\users\\六一\\appdata\\local\\packages\\pythonsoftwarefoundation.python.3.11_qbz5n2kfra8p0\\localcache\\local-packages\\python311\\site-packages (from pandas) (2.1.1)\n",
            "Requirement already satisfied: python-dateutil>=2.8.2 in c:\\users\\六一\\appdata\\local\\packages\\pythonsoftwarefoundation.python.3.11_qbz5n2kfra8p0\\localcache\\local-packages\\python311\\site-packages (from pandas) (2.9.0.post0)\n",
            "Requirement already satisfied: pytz>=2020.1 in c:\\users\\六一\\appdata\\local\\packages\\pythonsoftwarefoundation.python.3.11_qbz5n2kfra8p0\\localcache\\local-packages\\python311\\site-packages (from pandas) (2024.2)\n",
            "Requirement already satisfied: tzdata>=2022.7 in c:\\users\\六一\\appdata\\local\\packages\\pythonsoftwarefoundation.python.3.11_qbz5n2kfra8p0\\localcache\\local-packages\\python311\\site-packages (from pandas) (2024.1)\n",
            "Requirement already satisfied: six>=1.5 in c:\\users\\六一\\appdata\\local\\packages\\pythonsoftwarefoundation.python.3.11_qbz5n2kfra8p0\\localcache\\local-packages\\python311\\site-packages (from python-dateutil>=2.8.2->pandas) (1.16.0)\n",
            "Requirement already satisfied: seaborn in c:\\users\\六一\\appdata\\local\\packages\\pythonsoftwarefoundation.python.3.11_qbz5n2kfra8p0\\localcache\\local-packages\\python311\\site-packages (0.13.2)\n",
            "Requirement already satisfied: numpy!=1.24.0,>=1.20 in c:\\users\\六一\\appdata\\local\\packages\\pythonsoftwarefoundation.python.3.11_qbz5n2kfra8p0\\localcache\\local-packages\\python311\\site-packages (from seaborn) (2.1.1)\n",
            "Requirement already satisfied: pandas>=1.2 in c:\\users\\六一\\appdata\\local\\packages\\pythonsoftwarefoundation.python.3.11_qbz5n2kfra8p0\\localcache\\local-packages\\python311\\site-packages (from seaborn) (2.2.3)\n",
            "Requirement already satisfied: matplotlib!=3.6.1,>=3.4 in c:\\users\\六一\\appdata\\local\\packages\\pythonsoftwarefoundation.python.3.11_qbz5n2kfra8p0\\localcache\\local-packages\\python311\\site-packages (from seaborn) (3.9.2)\n",
            "Requirement already satisfied: contourpy>=1.0.1 in c:\\users\\六一\\appdata\\local\\packages\\pythonsoftwarefoundation.python.3.11_qbz5n2kfra8p0\\localcache\\local-packages\\python311\\site-packages (from matplotlib!=3.6.1,>=3.4->seaborn) (1.3.0)\n",
            "Requirement already satisfied: cycler>=0.10 in c:\\users\\六一\\appdata\\local\\packages\\pythonsoftwarefoundation.python.3.11_qbz5n2kfra8p0\\localcache\\local-packages\\python311\\site-packages (from matplotlib!=3.6.1,>=3.4->seaborn) (0.12.1)\n",
            "Requirement already satisfied: fonttools>=4.22.0 in c:\\users\\六一\\appdata\\local\\packages\\pythonsoftwarefoundation.python.3.11_qbz5n2kfra8p0\\localcache\\local-packages\\python311\\site-packages (from matplotlib!=3.6.1,>=3.4->seaborn) (4.53.1)\n",
            "Requirement already satisfied: kiwisolver>=1.3.1 in c:\\users\\六一\\appdata\\local\\packages\\pythonsoftwarefoundation.python.3.11_qbz5n2kfra8p0\\localcache\\local-packages\\python311\\site-packages (from matplotlib!=3.6.1,>=3.4->seaborn) (1.4.7)\n",
            "Requirement already satisfied: packaging>=20.0 in c:\\users\\六一\\appdata\\local\\packages\\pythonsoftwarefoundation.python.3.11_qbz5n2kfra8p0\\localcache\\local-packages\\python311\\site-packages (from matplotlib!=3.6.1,>=3.4->seaborn) (24.1)\n",
            "Requirement already satisfied: pillow>=8 in c:\\users\\六一\\appdata\\local\\packages\\pythonsoftwarefoundation.python.3.11_qbz5n2kfra8p0\\localcache\\local-packages\\python311\\site-packages (from matplotlib!=3.6.1,>=3.4->seaborn) (10.4.0)\n",
            "Requirement already satisfied: pyparsing>=2.3.1 in c:\\users\\六一\\appdata\\local\\packages\\pythonsoftwarefoundation.python.3.11_qbz5n2kfra8p0\\localcache\\local-packages\\python311\\site-packages (from matplotlib!=3.6.1,>=3.4->seaborn) (3.1.4)\n",
            "Requirement already satisfied: python-dateutil>=2.7 in c:\\users\\六一\\appdata\\local\\packages\\pythonsoftwarefoundation.python.3.11_qbz5n2kfra8p0\\localcache\\local-packages\\python311\\site-packages (from matplotlib!=3.6.1,>=3.4->seaborn) (2.9.0.post0)\n",
            "Requirement already satisfied: pytz>=2020.1 in c:\\users\\六一\\appdata\\local\\packages\\pythonsoftwarefoundation.python.3.11_qbz5n2kfra8p0\\localcache\\local-packages\\python311\\site-packages (from pandas>=1.2->seaborn) (2024.2)\n",
            "Requirement already satisfied: tzdata>=2022.7 in c:\\users\\六一\\appdata\\local\\packages\\pythonsoftwarefoundation.python.3.11_qbz5n2kfra8p0\\localcache\\local-packages\\python311\\site-packages (from pandas>=1.2->seaborn) (2024.1)\n",
            "Requirement already satisfied: six>=1.5 in c:\\users\\六一\\appdata\\local\\packages\\pythonsoftwarefoundation.python.3.11_qbz5n2kfra8p0\\localcache\\local-packages\\python311\\site-packages (from python-dateutil>=2.7->matplotlib!=3.6.1,>=3.4->seaborn) (1.16.0)\n"
          ]
        }
      ],
      "source": [
        "!pip install matplotlib\n",
        "!pip install pandas\n",
        "!pip install seaborn"
      ]
    },
    {
      "cell_type": "markdown",
      "metadata": {
        "id": "PO90DZ8hQpr6"
      },
      "source": [
        "## Downloading Python Scripts"
      ]
    },
    {
      "cell_type": "code",
      "execution_count": 122,
      "metadata": {
        "colab": {
          "base_uri": "https://localhost:8080/"
        },
        "id": "EiEDZKVDQtM0",
        "outputId": "ae04a7f4-708e-497b-8dc3-5c00a4870704"
      },
      "outputs": [],
      "source": [
        "from os.path import basename, exists\n",
        "\n",
        "def download(url):\n",
        "  filename = basename(url)\n",
        "  if not exists(filename):\n",
        "    from urllib.request import urlretrieve\n",
        "    local, _ = urlretrieve(url, filename)\n",
        "    print('Downloaded ' + local)\n",
        "\n",
        "download('https://github.com/AllenDowney/ThinkComplexity2/raw/master/notebooks/utils.py')\n",
        "download('https://github.com/AllenDowney/ThinkComplexity2/raw/master/notebooks/Cell2D.py')"
      ]
    },
    {
      "cell_type": "markdown",
      "metadata": {
        "id": "R1QfpdVnPCeL"
      },
      "source": [
        "# NumPy数组速查笔记\n",
        "摘抄ABM Lab里可能用到的东西\n",
        "\n"
      ]
    },
    {
      "cell_type": "markdown",
      "metadata": {
        "id": "NI4LJCg3SUxe"
      },
      "source": [
        "## NumPy数组\n",
        "`list()`创建一个列表\n",
        "\n",
        "[`numpy.array(object, dtype=None)`](https://numpy.org/doc/stable/reference/generated/numpy.array.html)创建一个NumPy数组类的实例`numpy.ndarray`，数组元素由传参决定\n",
        "* `dtype=None`默认自动选择合适的数据类型\n",
        "* `dtype=int8`选择8位整型以节省存储空间\n",
        "* **操作符**的**操作对象**基本被重载为对NumPy数组的每个元素\n",
        "* ### 元素数据类型转换\n",
        "[`array.astype(dtype)`](https://numpy.org/doc/stable/reference/generated/numpy.astype.html#numpy-astype)将NumPy数组的元素转换为指定数据类型，*不改变原数据*\n",
        "\n",
        "[`numpy.nonzero(array)`](https://numpy.org/doc/stable/reference/generated/numpy.nonzero.html)返回NumPy数组中非零元素的**索引数组**构成的元组，按维度的顺序进行分类\n",
        "\n",
        "* `*`用于解包可迭代对象以获取参数\n",
        "* `zip(*iterables)`将相同索引位置的解包值打包为元组\n",
        "\n",
        "[`numpy.shape(array)`](https://numpy.org/doc/stable/reference/generated/numpy.shape.html)NumPy数组特化的`len()`\n",
        "* `np.shape[1]`或`len(array[0])`: 返回x轴长\n",
        "* `np.shape[0]`或`len(array)`: 返回y轴长"
      ]
    },
    {
      "cell_type": "code",
      "execution_count": 50,
      "metadata": {
        "colab": {
          "base_uri": "https://localhost:8080/"
        },
        "id": "vAEkZbBzSS8E",
        "outputId": "930e8046-780d-4f86-9538-d03ada8b4ef1"
      },
      "outputs": [
        {
          "name": "stdout",
          "output_type": "stream",
          "text": [
            "<class 'list'>\n",
            "[[[3, 0, 0], [0, 4, 0], [5, 6, 0]]]\n",
            "<class 'numpy.ndarray'>\n",
            "[[3 0 0]\n",
            " [0 4 0]\n",
            " [5 6 0]]\n",
            "(array([0, 1, 2, 2]), array([0, 1, 0, 1]))\n",
            "[0 1 2 2] [0 1 0 1]\n",
            "[(np.int64(0), np.int64(0)), (np.int64(1), np.int64(1)), (np.int64(2), np.int64(0)), (np.int64(2), np.int64(1))]\n",
            "<class 'numpy.ndarray'>\n",
            "[[13 10 10]\n",
            " [10 14 10]\n",
            " [15 16 10]]\n",
            "<class 'numpy.ndarray'>\n",
            "[[0 1 1]\n",
            " [1 0 1]\n",
            " [0 0 1]]\n",
            "[[False  True  True]\n",
            " [ True False  True]\n",
            " [False False  True]]\n"
          ]
        }
      ],
      "source": [
        "import numpy as np\n",
        "\n",
        "x = [[[3, 0, 0], [0, 4, 0], [5, 6, 0]]]\n",
        "y = np.array([[3, 0, 0], [0, 4, 0], [5, 6, 0]], dtype=None)\n",
        "print(type(x))\n",
        "print(x)\n",
        "\n",
        "print(type(y))\n",
        "print(y)\n",
        "print(np.nonzero(y))\n",
        "print(*np.nonzero(y))\n",
        "print(list(zip(*np.nonzero(y))))\n",
        "\n",
        "print(type(y))\n",
        "print(y+10)   # + - = 之类的操作符被重载为对数组的每个元素都生效\n",
        "\n",
        "z = y==0\n",
        "print(type(z))\n",
        "print(z.astype('uint8'))\n",
        "print(z)"
      ]
    },
    {
      "cell_type": "markdown",
      "metadata": {
        "id": "WZruan11yac7"
      },
      "source": [
        "## 随机数"
      ]
    },
    {
      "cell_type": "markdown",
      "metadata": {
        "id": "fKV3Opdwvn4R"
      },
      "source": [
        "###概率分布\n",
        "[`numpy.random.choice(array, size=None, replace=True, p=None)`](https://numpy.org/doc/stable/reference/random/generated/numpy.random.choice.html)从给定的**一维数组**中随机选择数个元素，构建NumPy数组\n",
        "* `size=(n, m)`二维\n",
        "* `replace=True`默认允许元素的重复选取\n",
        "* `p=None`指定了数组中逐元素对应的概率，默认呈均匀分布"
      ]
    },
    {
      "cell_type": "code",
      "execution_count": 51,
      "metadata": {
        "colab": {
          "base_uri": "https://localhost:8080/"
        },
        "id": "bC9JxhkY5L-5",
        "outputId": "7446b93f-1a8f-4f16-b450-20ac1ee6650f"
      },
      "outputs": [
        {
          "data": {
            "text/plain": [
              "array([[2, 1, 1, 2, 2],\n",
              "       [2, 0, 2, 2, 0],\n",
              "       [1, 2, 1, 1, 2],\n",
              "       [0, 2, 0, 0, 1],\n",
              "       [1, 1, 0, 2, 1]], dtype=int8)"
            ]
          },
          "execution_count": 51,
          "metadata": {},
          "output_type": "execute_result"
        }
      ],
      "source": [
        "choices = np.array([0, 1, 2], dtype=np.int8)    # 8位的0,1,2\n",
        "probs = [0.2, 0.4, 0.4]\n",
        "\n",
        "test_array = np.random.choice(choices, (5, 5), p=probs)\n",
        "test_array"
      ]
    },
    {
      "cell_type": "markdown",
      "metadata": {
        "id": "Y6jRWmnKfuoG"
      },
      "source": [
        "### 乱序\n",
        "[`numpy.random.shuffle`](https://numpy.org/doc/stable/reference/random/generated/numpy.random.shuffle.html)沿着多位数组的第一个轴对数据进行打乱，子数组的顺序发生改变"
      ]
    },
    {
      "cell_type": "code",
      "execution_count": 52,
      "metadata": {
        "colab": {
          "base_uri": "https://localhost:8080/"
        },
        "id": "t58BkbIEgFOF",
        "outputId": "11f280a5-ed4f-4f65-dbf8-5c656d61fcfd"
      },
      "outputs": [
        {
          "name": "stdout",
          "output_type": "stream",
          "text": [
            "[4, 1, 7, 3, 5, 9, 8, 6, 2, 0]\n"
          ]
        },
        {
          "data": {
            "text/plain": [
              "array([5, 7, 1, 3, 4, 6, 8, 2, 0, 9])"
            ]
          },
          "execution_count": 52,
          "metadata": {},
          "output_type": "execute_result"
        }
      ],
      "source": [
        "ls = list(range(10))\n",
        "np.random.shuffle(ls)\n",
        "print(ls)\n",
        "\n",
        "arr = np.arange(10)\n",
        "np.random.shuffle(arr)\n",
        "arr"
      ]
    },
    {
      "cell_type": "markdown",
      "metadata": {
        "id": "dQvz_joONd99"
      },
      "source": [
        "## 互相关 Cross-Correlation\n",
        "原理见CA Lab 1-2"
      ]
    },
    {
      "cell_type": "code",
      "execution_count": 53,
      "metadata": {
        "colab": {
          "base_uri": "https://localhost:8080/"
        },
        "id": "0FY1XHoXPpst",
        "outputId": "d150d0d4-ab53-40ff-aeb1-caac2df352f1"
      },
      "outputs": [
        {
          "ename": "ModuleNotFoundError",
          "evalue": "No module named 'scipy'",
          "output_type": "error",
          "traceback": [
            "\u001b[1;31m---------------------------------------------------------------------------\u001b[0m",
            "\u001b[1;31mModuleNotFoundError\u001b[0m                       Traceback (most recent call last)",
            "Cell \u001b[1;32mIn[53], line 1\u001b[0m\n\u001b[1;32m----> 1\u001b[0m \u001b[38;5;28;01mfrom\u001b[39;00m \u001b[38;5;21;01mscipy\u001b[39;00m\u001b[38;5;21;01m.\u001b[39;00m\u001b[38;5;21;01msignal\u001b[39;00m \u001b[38;5;28;01mimport\u001b[39;00m correlate2d\n\u001b[0;32m      3\u001b[0m options \u001b[38;5;241m=\u001b[39m \u001b[38;5;28mdict\u001b[39m(mode\u001b[38;5;241m=\u001b[39m\u001b[38;5;124m'\u001b[39m\u001b[38;5;124msame\u001b[39m\u001b[38;5;124m'\u001b[39m, boundary\u001b[38;5;241m=\u001b[39m\u001b[38;5;124m'\u001b[39m\u001b[38;5;124mwrap\u001b[39m\u001b[38;5;124m'\u001b[39m)\n\u001b[0;32m      4\u001b[0m kernel \u001b[38;5;241m=\u001b[39m np\u001b[38;5;241m.\u001b[39marray([[\u001b[38;5;241m1\u001b[39m, \u001b[38;5;241m1\u001b[39m, \u001b[38;5;241m1\u001b[39m],\n\u001b[0;32m      5\u001b[0m           [\u001b[38;5;241m1\u001b[39m, \u001b[38;5;241m0\u001b[39m, \u001b[38;5;241m1\u001b[39m],\n\u001b[0;32m      6\u001b[0m           [\u001b[38;5;241m1\u001b[39m, \u001b[38;5;241m1\u001b[39m, \u001b[38;5;241m1\u001b[39m]], dtype\u001b[38;5;241m=\u001b[39mnp\u001b[38;5;241m.\u001b[39mint8)         \u001b[38;5;66;03m# cross-correlation基于位置求积的和\u001b[39;00m\n",
            "\u001b[1;31mModuleNotFoundError\u001b[0m: No module named 'scipy'"
          ]
        }
      ],
      "source": [
        "from scipy.signal import correlate2d\n",
        "\n",
        "options = dict(mode='same', boundary='wrap')\n",
        "kernel = np.array([[1, 1, 1],\n",
        "          [1, 0, 1],\n",
        "          [1, 1, 1]], dtype=np.int8)         # cross-correlation基于位置求积的和\n",
        "# count the number of red neighbours\n",
        "correlate2d(test_array, kernel, **options)            # **将dict解包为关键字参数\n",
        "correlate2d(test_array, kernel, mode='same', boundary='wrap')  # 等价写法"
      ]
    },
    {
      "cell_type": "markdown",
      "metadata": {
        "id": "2kAPjJ2IenJU"
      },
      "source": [
        "## 可视化的主题色"
      ]
    },
    {
      "cell_type": "code",
      "execution_count": 8,
      "metadata": {
        "colab": {
          "base_uri": "https://localhost:8080/",
          "height": 148
        },
        "id": "q6U_v7HLfDYk",
        "outputId": "5bef5f2f-460b-49ca-fa8d-5b2cd29de223"
      },
      "outputs": [
        {
          "data": {
            "image/png": "[encoded data removed]",
            "text/plain": [
              "<Figure size 640x480 with 1 Axes>"
            ]
          },
          "metadata": {},
          "output_type": "display_data"
        }
      ],
      "source": [
        "import seaborn as sns\n",
        "from matplotlib.colors import LinearSegmentedColormap\n",
        "import numpy as np\n",
        "import matplotlib.pyplot as plt\n",
        "\n",
        "# 定义颜色映射\n",
        "palette = sns.color_palette('muted')      # 中等饱和度的预定义调色板\n",
        "colors = [palette[0], palette[1], palette[2], palette[3], palette[4], palette[6]]\n",
        "cmap = LinearSegmentedColormap.from_list(\"cmap\", colors)\n",
        "\n",
        "# 创建数据\n",
        "data = np.array([[0,1,2,3,4,5]], dtype=None)\n",
        "\n",
        "# 绘制热图\n",
        "plt.imshow(data, cmap=cmap, vmin=0, vmax=6)\n",
        "plt.xticks(np.arange(0, data.shape[1], step=1))\n",
        "plt.show()"
      ]
    },
    {
      "cell_type": "markdown",
      "metadata": {
        "id": "HRd5uqPGUH7b"
      },
      "source": [
        "# 黏菌的行为模式设计"
      ]
    },
    {
      "cell_type": "markdown",
      "metadata": {
        "id": "zj7uEjs8JSdk"
      },
      "source": [
        "* 黏菌生活在二维离散的迷宫（培养皿）中，其通过数条伪足探索迷宫试图找到唯一的燕麦\n",
        "  * 初始化随机但不一定连续的墙柱\n",
        "* 伪足的产生需要消耗能量，只有成功找到燕麦的伪足不会饿死\n",
        " * 假设伪足无法斜向蔓延，以避免三包一时的“穿墙”问题\n",
        " * 蔓延速度决定了每一步的蔓延格数\n",
        "    * 每步的蔓延速度如何对应DFS栈/BFS队列的深度？——每一步只能消耗有限的能量用于`pop()`\n",
        "* 随着时间推移，呈现 少-广-精 的变化\n",
        "  * 折线图的纵轴是什么？——占地面积\n",
        "* More rules\n",
        "  * 多个黏菌与多个燕麦\n",
        "  * 黏菌的合作\n",
        "  * 黏菌本体的死亡\n"
      ]
    },
    {
      "cell_type": "markdown",
      "metadata": {
        "id": "RW7UJbJvwGWl"
      },
      "source": [
        "# Custom Color Map"
      ]
    },
    {
      "cell_type": "code",
      "execution_count": 123,
      "metadata": {
        "colab": {
          "base_uri": "https://localhost:8080/",
          "height": 131
        },
        "id": "X1IVfI2XwKnt",
        "outputId": "f2082b69-d076-43ac-b48e-27eeccecadf5"
      },
      "outputs": [
        {
          "data": {
            "image/png": "[encoded data removed]",
            "text/plain": [
              "<Figure size 640x480 with 1 Axes>"
            ]
          },
          "metadata": {},
          "output_type": "display_data"
        }
      ],
      "source": [
        "import seaborn as sns\n",
        "from matplotlib.colors import LinearSegmentedColormap\n",
        "import matplotlib.pyplot as plt\n",
        "import numpy as np\n",
        "\n",
        "# make a custom color map\n",
        "palette = sns.color_palette('muted')\n",
        "colors = [\"white\", \"black\", palette[0], palette[1], palette[2], \"green\", palette[3]]\n",
        "cmap = LinearSegmentedColormap.from_list(\"cmap\", colors)\n",
        "\n",
        "# make a color dict\n",
        "color = {\n",
        "    \"white\" : 0,\n",
        "    \"black\" : 1,\n",
        "    \"blue\" : 2,\n",
        "    \"orange\" : 3,\n",
        "    \"light_green\" : 4,\n",
        "    \"green\" : 5,\n",
        "    \"red\" : 6\n",
        "}\n",
        "\n",
        "# map item to color\n",
        "item_color = {\n",
        "    \"path\" : color[\"white\"],\n",
        "    \"wall\" : color[\"black\"],\n",
        "    \"oat\" : color[\"red\"],\n",
        "    \"mold\" : color[\"green\"],\n",
        "    \"growth\" : color[\"light_green\"]\n",
        "}\n",
        "\n",
        "# demo\n",
        "colors_demo = np.arange(7).reshape(1, -1)\n",
        "draw_params = {'cmap': cmap, 'vmin': 0, 'vmax': 6, 'alpha': 1}\n",
        "\n",
        "color_path = item_color[\"path\"]\n",
        "color_wall = item_color[\"wall\"]\n",
        "color_oat = item_color[\"oat\"]\n",
        "color_mold = item_color[\"mold\"]\n",
        "color_growth = item_color[\"growth\"]\n",
        "\n",
        "# show palette\n",
        "plt.imshow(colors_demo, cmap=cmap, vmin=0, vmax=6)\n",
        "plt.xticks(np.arange(0, colors_demo.shape[1], step=1))\n",
        "plt.yticks([])  # remove y-axis\n",
        "plt.show()"
      ]
    },
    {
      "cell_type": "markdown",
      "metadata": {
        "id": "qAfRA-dZv1Sl"
      },
      "source": [
        "# Model Implementation 代码实现"
      ]
    },
    {
      "cell_type": "code",
      "execution_count": 177,
      "metadata": {},
      "outputs": [],
      "source": [
        "#from IPython.display import clear_output\n",
        "#from time import sleep\n",
        "#from utils import three_frame\n",
        "from Cell2D import Cell2D, draw_array\n",
        "\n",
        "class SlimeMoldForaging(Cell2D):\n",
        "\n",
        "  def __init__(self, height=19, width=19, max_energy=20, seed=12):\n",
        "      super().__init__(height, width)\n",
        "      np.random.seed(seed)  # 统一three_frame()及animate()的可视化结果\n",
        "      self.height = height\n",
        "      self.width = width\n",
        "      self.max_energy = max_energy\n",
        "      self.maze = np.ones((height, width), dtype=np.int8)  # 迷宫全貌\n",
        "      self.energy = np.zeros((height, width), dtype=np.int8) # 黏菌蔓延时的剩余能量\n",
        "      self.start_x = np.random.randint(0, (width // 2)) * 2 + 1\n",
        "      self.start_y = np.random.randint(0, (height // 2)) * 2 + 1\n",
        "      self.maze[self.start_y, self.start_x] = 0  # 设置起始点为路径\n",
        "      self.stack = [(self.start_x, self.start_y)]  # 迷宫生成的DFS栈\n",
        "      self.queue = []  # 黏菌觅食的BFS队列\n",
        "      self.action = \"\"  # 特殊文本命令\n",
        "      self.path = []\n",
        "      self.oat_path = []\n",
        "  \n",
        "  def place_item(self, item):\n",
        "      \"\"\"randomly place item in maze path\"\"\"\n",
        "\n",
        "      # This model only considers a single slime mold searches for a single oat\n",
        "      if np.any(self.maze == item_color[item]):\n",
        "          return\n",
        "\n",
        "      paths = np.argwhere(self.maze == color_path)\n",
        "      item_coord = paths[np.random.choice(len(paths))]\n",
        "      self.maze[item_coord[0], item_coord[1]] = item_color[item]\n",
        "\n",
        "      if item in [\"mold\", \"oat\"]:\n",
        "        item_x, item_y = int(item_coord[1]), int(item_coord[0])\n",
        "        self.energy[item_x][item_y] = self.max_energy\n",
        "        if item == \"mold\":  # preprocess BFS queue\n",
        "            self.queue.append((item_x, item_y, [(item_x, item_y)]))\n",
        "\n",
        "  def carve_pathway_step(self):\n",
        "      \"\"\"generate paths using DFS\"\"\"\n",
        "\n",
        "      while self.stack:\n",
        "        x, y = self.stack[-1]\n",
        "        carve_directions = [(0, 2), (0, -2), (2, 0), (-2, 0)]\n",
        "        np.random.shuffle(carve_directions)\n",
        "        \n",
        "        carved = False  # dead end flag to prevent cycle in maze\n",
        "        for dx, dy in carve_directions:\n",
        "            nx = x + dx\n",
        "            ny = y + dy\n",
        "            if 0 <= nx < self.maze.shape[1] and 0 <= ny < self.maze.shape[0]:\n",
        "                if self.maze[ny][nx] == color_wall:\n",
        "                    self.maze[y + dy // 2][x + dx // 2] = 0\n",
        "                    self.maze[ny][nx] = color_path\n",
        "                    self.stack.append((nx, ny))\n",
        "                    carved = True\n",
        "                    break\n",
        "        # dead end\n",
        "        if not carved:\n",
        "            self.stack.pop()\n",
        "        \n",
        "        # special command for steps visualization\n",
        "        if \"step\" in self.action:\n",
        "            break\n",
        "\n",
        "  def forage_step(self):\n",
        "      \"\"\"mold spreads using BFS with energy constraint\"\"\"\n",
        "      while self.queue:\n",
        "        x, y, path = self.queue.pop(0)\n",
        "        forage_directions = [(0, 1), (0, -1), (1, 0), (-1, 0)]\n",
        "        for dx, dy in forage_directions:\n",
        "            nx, ny = x + dx, y + dy\n",
        "            \n",
        "            if 0 <= ny < self.maze.shape[1] and 0 <= ny < self.maze.shape[0]:\n",
        "              # pseudopodia keep spreading after find the oat\n",
        "              if self.maze[ny][nx] in [color_path, color_oat]:\n",
        "                if self.maze[ny][nx] != color_oat:\n",
        "                  # consume energy when spreading\n",
        "                  if self.energy[x][y] > 0:\n",
        "                    self.maze[ny][nx] = color_growth\n",
        "                    self.energy[nx][ny] = self.energy[x][y] - 1\n",
        "                    self.queue.append((nx, ny, path+[(nx, ny)]))\n",
        "                    self.path.append((nx, ny))\n",
        "                  else:\n",
        "                    # stop spreading when energy used out\n",
        "                    continue\n",
        "                else:\n",
        "                    # if reaching oat, recharge energy\n",
        "                    self.energy[nx][ny] = self.max_energy\n",
        "                    self.queue.append((nx, ny, path+[(nx, ny)]))\n",
        "                    self.oat_path.append(path)\n",
        "        \n",
        "        # special command for steps visualization\n",
        "        if \"step\" in self.action:\n",
        "            break\n",
        "        \n",
        "  def retract_step(self):\n",
        "    while self.path:\n",
        "      x, y = self.path.pop()\n",
        "      if (x, y) in self.oat_path[0]:\n",
        "        continue\n",
        "\n",
        "      if self.maze[y][x] == 4:\n",
        "        self.maze[y][x] = 0\n",
        "        \n",
        "      if \"step\" in self.action:\n",
        "        break\n",
        "  \n",
        "  def find_oat(self):\n",
        "      \"\"\"for survival rate calculation\"\"\"\n",
        "      return 1 if self.oat_path else 0\n",
        "      \n",
        "  def step(self):\n",
        "      \"\"\"model evolves by special text commands in self.progress\"\"\"\n",
        "\n",
        "      if \"carve\" in self.action:\n",
        "           self.carve_pathway_step()\n",
        "      elif \"forage\" in self.action:\n",
        "           self.forage_step()\n",
        "      elif \"retract\" in self.action:\n",
        "           self.retract_step()\n",
        "\n",
        "  def draw(self, nparray=\"maze\"):\n",
        "      draw_array(getattr(self, nparray), **draw_params)\n",
        "\n",
        "  def draw_with_energy(self, array=None, annotations=None):\n",
        "      \"\"\"port annotate_ca_text(array, annotations) from CA lab2\"\"\"\n",
        "\n",
        "      if array is None:\n",
        "        array = self.maze\n",
        "      if annotations is None:\n",
        "        annotations = self.energy\n",
        "\n",
        "      rows, cols = array.shape\n",
        "      ax = plt.gca()\n",
        "\n",
        "      # Remove minor ticks\n",
        "      ax.tick_params(which='minor', bottom=False, left=False)\n",
        "\n",
        "      for i in range(annotations.shape[0]):\n",
        "        for j in range(annotations.shape[1]):\n",
        "          ax.text(i, j, str(annotations[i, j]), ha='center', va='center', fontsize=10)\n",
        "\n",
        "      plt.imshow(array, cmap=cmap, vmin=0, vmax=6, interpolation='none')\n",
        "      plt.axis('off')\n",
        "  \n",
        "  def three_frame(self, n_seq):\n",
        "    \"\"\"port three_frame() from utils.py\"\"\"\n",
        "    plt.figure(figsize=(10, 4))\n",
        "\n",
        "    for i, n in enumerate(n_seq):\n",
        "      plt.subplot(1, 3, i+1)\n",
        "      self.loop(n)\n",
        "      self.draw()\n",
        "\n",
        "    plt.tight_layout()\n"
      ]
    },
    {
      "cell_type": "markdown",
      "metadata": {
        "id": "22V8o8cwlvBm"
      },
      "source": [
        "# Maze Initialization\n",
        "\n"
      ]
    },
    {
      "cell_type": "markdown",
      "metadata": {
        "id": "uvFn8OnW6bGd"
      },
      "source": [
        "## 1.1 Carving Pathway"
      ]
    },
    {
      "cell_type": "code",
      "execution_count": 179,
      "metadata": {
        "colab": {
          "base_uri": "https://localhost:8080/",
          "height": 406
        },
        "id": "hYz0W4GgcJ-p",
        "outputId": "cd1bf062-0847-43af-b032-a9f717b223ad"
      },
      "outputs": [
        {
          "data": {
            "image/png": "[encoded data removed]",
            "text/plain": [
              "<Figure size 640x480 with 1 Axes>"
            ]
          },
          "metadata": {},
          "output_type": "display_data"
        }
      ],
      "source": [
        "# width and height should preferably be odd nunmbers\n",
        "env = SlimeMoldForaging(height=19, width=19, max_energy=20, seed=12)    # seed = 12 has good features in recharge and retraction\n",
        "env.action = \"carve_pathway\"\n",
        "env.step()\n",
        "env.draw()"
      ]
    },
    {
      "cell_type": "markdown",
      "metadata": {
        "id": "k-WmtKc8ASYM"
      },
      "source": [
        "## 1.2 Place Mold and Oat"
      ]
    },
    {
      "cell_type": "code",
      "execution_count": 180,
      "metadata": {
        "colab": {
          "base_uri": "https://localhost:8080/",
          "height": 406
        },
        "id": "x0azjI1x36n2",
        "outputId": "36ec25e0-a68f-4718-a606-58d73dca2f9d"
      },
      "outputs": [
        {
          "data": {
            "image/png": "[encoded data removed]",
            "text/plain": [
              "<Figure size 640x480 with 1 Axes>"
            ]
          },
          "metadata": {},
          "output_type": "display_data"
        }
      ],
      "source": [
        "env.place_item(\"mold\")                                                  # present mold in green\n",
        "env.place_item(\"oat\")                                                   # present oat in red\n",
        "env.draw()"
      ]
    },
    {
      "cell_type": "markdown",
      "metadata": {
        "id": "HNBANXL7ccLk"
      },
      "source": [
        "## 1.3 Progress Visualization"
      ]
    },
    {
      "cell_type": "code",
      "execution_count": 181,
      "metadata": {
        "colab": {
          "base_uri": "https://localhost:8080/",
          "height": 350
        },
        "id": "sHrzlD8IHsDV",
        "outputId": "16578552-b004-4868-eb3f-12b3e89e65ce"
      },
      "outputs": [
        {
          "data": {
            "image/png": "[encoded data removed]",
            "text/plain": [
              "<Figure size 1000x400 with 3 Axes>"
            ]
          },
          "metadata": {},
          "output_type": "display_data"
        }
      ],
      "source": [
        "# Pathway carving frames\n",
        "demo = SlimeMoldForaging(height=19, width=19, max_energy=20, seed=12)   # seed = 12 has good features in recharge and retraction\n",
        "demo.action = \"carve_pathway_in_steps\"\n",
        "demo.three_frame([0, 50, 100])                                          # display carving frames at 0, 50 and 150 steps"
      ]
    },
    {
      "cell_type": "code",
      "execution_count": 182,
      "metadata": {
        "colab": {
          "base_uri": "https://localhost:8080/",
          "height": 406
        },
        "id": "NsdvprYD0ZA2",
        "outputId": "ec3fdcae-132c-4fb6-ccf0-ddd07b79acf3"
      },
      "outputs": [
        {
          "data": {
            "image/png": "[encoded data removed]",
            "text/plain": [
              "<Figure size 640x480 with 1 Axes>"
            ]
          },
          "metadata": {},
          "output_type": "display_data"
        }
      ],
      "source": [
        "# Pathway carving animation\n",
        "demo = SlimeMoldForaging(height=19, width=19, max_energy=20, seed=12)   # seed = 12 has good features in recharge and retraction\n",
        "demo.action = \"carve_pathway_in_steps\"\n",
        "demo.animate(frames=150)                                                # show carving animation from step 0 to 150"
      ]
    },
    {
      "cell_type": "markdown",
      "metadata": {
        "id": "M2Pu45PJ8qLf"
      },
      "source": [
        "# Mold Foraging"
      ]
    },
    {
      "cell_type": "markdown",
      "metadata": {
        "id": "DVFCERH37owH"
      },
      "source": [
        "## 2.1 Mold Foraging"
      ]
    },
    {
      "cell_type": "code",
      "execution_count": 183,
      "metadata": {
        "colab": {
          "base_uri": "https://localhost:8080/",
          "height": 406
        },
        "id": "tIfg1EqI7F3y",
        "outputId": "83922ba5-cd99-471a-fa79-25240003a0cb"
      },
      "outputs": [
        {
          "data": {
            "image/png": "[encoded data removed]",
            "text/plain": [
              "<Figure size 640x480 with 1 Axes>"
            ]
          },
          "metadata": {},
          "output_type": "display_data"
        }
      ],
      "source": [
        "env = SlimeMoldForaging(height=19, width=19, max_energy=20, seed=12)    # seed = 12 has good features in recharge and retraction\n",
        "env.action = \"carve_pathway\"\n",
        "env.step()\n",
        "env.place_item(\"mold\")                                                  # present mold in green\n",
        "env.place_item(\"oat\")                                                   # present oat in red\n",
        "env.action = \"forage\"\n",
        "env.step()\n",
        "env.draw()"
      ]
    },
    {
      "cell_type": "code",
      "execution_count": 184,
      "metadata": {},
      "outputs": [
        {
          "data": {
            "image/png": "[encoded data removed]",
            "text/plain": [
              "<Figure size 640x480 with 1 Axes>"
            ]
          },
          "metadata": {},
          "output_type": "display_data"
        }
      ],
      "source": [
        "env.draw_with_energy()                                                  # show energy distribution"
      ]
    },
    {
      "cell_type": "markdown",
      "metadata": {
        "id": "3rl09D4d6ehf"
      },
      "source": [
        "## 2.2 Progress Visualization"
      ]
    },
    {
      "cell_type": "code",
      "execution_count": 185,
      "metadata": {
        "colab": {
          "base_uri": "https://localhost:8080/",
          "height": 350
        },
        "id": "Z-F06-8bEnsE",
        "outputId": "f0d19ac4-e657-40fa-b4e3-bbadd7cc6eb4"
      },
      "outputs": [
        {
          "data": {
            "image/png": "[encoded data removed]",
            "text/plain": [
              "<Figure size 1000x400 with 3 Axes>"
            ]
          },
          "metadata": {},
          "output_type": "display_data"
        }
      ],
      "source": [
        "# Foraging frames\n",
        "demo = SlimeMoldForaging(height=19, width=19, max_energy=20, seed=12)   # seed = 12 has good features in recharge and inactivation\n",
        "demo.action = \"carve_pathway\"\n",
        "demo.step()\n",
        "demo.place_item(\"mold\")                                                 # present mold in green\n",
        "demo.place_item(\"oat\")                                                  # present oat in red\n",
        "demo.action = \"forage_in_steps\"\n",
        "demo.three_frame([0, 50, 100])                                          # display foraging frames at 0, 50 and 150 steps"
      ]
    },
    {
      "cell_type": "code",
      "execution_count": 186,
      "metadata": {
        "colab": {
          "base_uri": "https://localhost:8080/",
          "height": 406
        },
        "id": "QuDf4Gph6h_z",
        "outputId": "5f5a5251-63a5-4715-ba94-43d76bfefea7"
      },
      "outputs": [
        {
          "data": {
            "image/png": "[encoded data removed]",
            "text/plain": [
              "<Figure size 640x480 with 1 Axes>"
            ]
          },
          "metadata": {},
          "output_type": "display_data"
        }
      ],
      "source": [
        "# Foraging animation\n",
        "demo = SlimeMoldForaging(height=19, width=19, max_energy=20, seed=12)   # seed = 12 has good features in recharge and inactivation\n",
        "demo.action = \"carve_pathway\"\n",
        "demo.step()\n",
        "demo.place_item(\"mold\")                                                 # present mold in green\n",
        "demo.place_item(\"oat\")                                                  # present oat in red\n",
        "demo.action = \"forage_in_steps\"\n",
        "demo.animate(frames=100)                                                # show foraging animation from step 0 to 100"
      ]
    },
    {
      "cell_type": "markdown",
      "metadata": {},
      "source": [
        "# Mold Retraction Triggered by Starvation"
      ]
    },
    {
      "cell_type": "markdown",
      "metadata": {},
      "source": [
        "## 3.1 Mold Retraction"
      ]
    },
    {
      "cell_type": "code",
      "execution_count": 194,
      "metadata": {},
      "outputs": [
        {
          "ename": "IndexError",
          "evalue": "list index out of range",
          "output_type": "error",
          "traceback": [
            "\u001b[1;31m---------------------------------------------------------------------------\u001b[0m",
            "\u001b[1;31mIndexError\u001b[0m                                Traceback (most recent call last)",
            "Cell \u001b[1;32mIn[194], line 11\u001b[0m\n\u001b[0;32m      9\u001b[0m env\u001b[38;5;241m.\u001b[39mstep()\n\u001b[0;32m     10\u001b[0m env\u001b[38;5;241m.\u001b[39maction \u001b[38;5;241m=\u001b[39m \u001b[38;5;124m\"\u001b[39m\u001b[38;5;124mretract\u001b[39m\u001b[38;5;124m\"\u001b[39m\n\u001b[1;32m---> 11\u001b[0m \u001b[43menv\u001b[49m\u001b[38;5;241;43m.\u001b[39;49m\u001b[43mstep\u001b[49m\u001b[43m(\u001b[49m\u001b[43m)\u001b[49m\n\u001b[0;32m     12\u001b[0m env\u001b[38;5;241m.\u001b[39mdraw()\n",
            "Cell \u001b[1;32mIn[177], line 124\u001b[0m, in \u001b[0;36mSlimeMoldForaging.step\u001b[1;34m(self)\u001b[0m\n\u001b[0;32m    122\u001b[0m      \u001b[38;5;28mself\u001b[39m\u001b[38;5;241m.\u001b[39mforage_step()\n\u001b[0;32m    123\u001b[0m \u001b[38;5;28;01melif\u001b[39;00m \u001b[38;5;124m\"\u001b[39m\u001b[38;5;124mretract\u001b[39m\u001b[38;5;124m\"\u001b[39m \u001b[38;5;129;01min\u001b[39;00m \u001b[38;5;28mself\u001b[39m\u001b[38;5;241m.\u001b[39maction:\n\u001b[1;32m--> 124\u001b[0m      \u001b[38;5;28;43mself\u001b[39;49m\u001b[38;5;241;43m.\u001b[39;49m\u001b[43mretract_step\u001b[49m\u001b[43m(\u001b[49m\u001b[43m)\u001b[49m\n",
            "Cell \u001b[1;32mIn[177], line 103\u001b[0m, in \u001b[0;36mSlimeMoldForaging.retract_step\u001b[1;34m(self)\u001b[0m\n\u001b[0;32m    101\u001b[0m \u001b[38;5;28;01mwhile\u001b[39;00m \u001b[38;5;28mself\u001b[39m\u001b[38;5;241m.\u001b[39mpath:\n\u001b[0;32m    102\u001b[0m   x, y \u001b[38;5;241m=\u001b[39m \u001b[38;5;28mself\u001b[39m\u001b[38;5;241m.\u001b[39mpath\u001b[38;5;241m.\u001b[39mpop()\n\u001b[1;32m--> 103\u001b[0m   \u001b[38;5;28;01mif\u001b[39;00m (x, y) \u001b[38;5;129;01min\u001b[39;00m \u001b[38;5;28;43mself\u001b[39;49m\u001b[38;5;241;43m.\u001b[39;49m\u001b[43moat_path\u001b[49m\u001b[43m[\u001b[49m\u001b[38;5;241;43m0\u001b[39;49m\u001b[43m]\u001b[49m:\n\u001b[0;32m    104\u001b[0m     \u001b[38;5;28;01mcontinue\u001b[39;00m\n\u001b[0;32m    106\u001b[0m   \u001b[38;5;28;01mif\u001b[39;00m \u001b[38;5;28mself\u001b[39m\u001b[38;5;241m.\u001b[39mmaze[y][x] \u001b[38;5;241m==\u001b[39m \u001b[38;5;241m4\u001b[39m:\n",
            "\u001b[1;31mIndexError\u001b[0m: list index out of range"
          ]
        }
      ],
      "source": [
        "env = SlimeMoldForaging(height=19, width=19, max_energy=20, seed=1)    # seed = 12 has good features in recharge and retraction\n",
        "# bug: 没找到第一个oat的时候会error -------------------------------^---\n",
        "env.action = \"carve_pathway\"\n",
        "env.step()\n",
        "env.place_item(\"mold\")                                                  # present mold in green\n",
        "env.place_item(\"oat\")                                                   # present oat in red\n",
        "env.action = \"forage\"\n",
        "env.step()\n",
        "env.action = \"retract\"\n",
        "env.step()\n",
        "env.draw()"
      ]
    },
    {
      "cell_type": "markdown",
      "metadata": {},
      "source": [
        "## 3.2 Progress Visualization"
      ]
    },
    {
      "cell_type": "code",
      "execution_count": 188,
      "metadata": {},
      "outputs": [
        {
          "data": {
            "image/png": "[encoded data removed]",
            "text/plain": [
              "<Figure size 1000x400 with 3 Axes>"
            ]
          },
          "metadata": {},
          "output_type": "display_data"
        }
      ],
      "source": [
        "demo = SlimeMoldForaging(height=19, width=19, max_energy=20, seed=12)    # seed = 12 has good features in recharge and retraction\n",
        "demo.action = \"carve_pathway\"\n",
        "demo.step()\n",
        "demo.place_item(\"mold\")                                                  # present mold in green\n",
        "demo.place_item(\"oat\")                                                   # present oat in red\n",
        "demo.action = \"forage\"\n",
        "demo.step()                                                              # present oat in red\n",
        "demo.action = \"retract_in_steps\"\n",
        "demo.three_frame([0, 30, 30])                                            # display retraction frames at 0, 30 and 60 steps"
      ]
    },
    {
      "cell_type": "code",
      "execution_count": 189,
      "metadata": {},
      "outputs": [
        {
          "data": {
            "image/png": "[encoded data removed]",
            "text/plain": [
              "<Figure size 640x480 with 1 Axes>"
            ]
          },
          "metadata": {},
          "output_type": "display_data"
        }
      ],
      "source": [
        "# Foraging animation\n",
        "demo = SlimeMoldForaging(height=19, width=19, max_energy=20, seed=12)   # seed = 12 has good features in recharge and retraction\n",
        "demo.action = \"carve_pathway\"\n",
        "demo.step()\n",
        "demo.place_item(\"mold\")                                                 # present mold in green\n",
        "demo.place_item(\"oat\")                                                  # present oat in red\n",
        "demo.action = \"forage\"\n",
        "demo.step()                                                    \n",
        "demo.action = \"retract_in_steps\"\n",
        "demo.animate(frames=60)                                                # show foraging animation from step 0 to 100"
      ]
    },
    {
      "cell_type": "markdown",
      "metadata": {},
      "source": [
        "# Survival Rate Curve"
      ]
    },
    {
      "cell_type": "code",
      "execution_count": 192,
      "metadata": {},
      "outputs": [
        {
          "data": {
            "image/png": "[encoded data removed]",
            "text/plain": [
              "<Figure size 640x480 with 1 Axes>"
            ]
          },
          "metadata": {},
          "output_type": "display_data"
        }
      ],
      "source": [
        "from utils import set_palette, decorate\n",
        "set_palette('Blues', 5, reverse=True)\n",
        "\n",
        "for p in [19,29,39,49]:\n",
        "    segs = []\n",
        "    for energy in range(30):\n",
        "        is_find = 0\n",
        "        for seeds in range(50):\n",
        "            demo = SlimeMoldForaging(height=p, width=p, max_energy=energy, seed=seeds)\n",
        "            demo.action = \"carve_pathway\"\n",
        "            demo.step()\n",
        "            demo.place_item(\"mold\")\n",
        "            demo.place_item(\"oat\")\n",
        "            demo.action = \"forage\"\n",
        "            demo.step()     \n",
        "            is_find += demo.find_oat()\n",
        "        p_find = is_find / 10\n",
        "        segs.append(p_find)\n",
        "    plt.plot(segs, label='Size = %d' % p)\n",
        "    \n",
        "decorate(xlabel='Max Energy', ylabel='Survival Rate', loc='best', ylim=[0, 1])\n"
      ]
    },
    {
      "cell_type": "markdown",
      "metadata": {},
      "source": [
        "# Development Logs"
      ]
    },
    {
      "cell_type": "markdown",
      "metadata": {},
      "source": [
        "> 5 Oct, 2024\n",
        "* Begin logging\n",
        "* Introduce energy constraint in `forage_step()`\n",
        "  * Add `energy: np.ndarray` as energy map of maze\n",
        "* Add `draw_with_energy()` to visualize energy loss when foraging\n",
        "  * Swap the index of `'green'` and `'light_green'` in **Custom Color Map**\n",
        "* Unify random seeds for visualiazation to achieve reliable reproduction\n",
        "\n",
        "> 6 Oct, 2024\n",
        "* Update **Setup**\n",
        "  * Add `!pip install scipy` for the local execution of cross-correlation principle\n",
        "* Git-based multiple cooperation\n",
        "  * Init logs there\n",
        "  * Unify variable naming style between `carve_pathway_step` and `forage_step()`\n",
        "\n",
        "> 7 Oct, 2024\n",
        "* Port `three_frame()` from `utils.py`\n",
        "* Update **Setup**\n",
        "  * Remove redundant `mkdir` in **Setup**\n",
        "* Add `die_step()`\n",
        "* Add **Survival Rate Curve**\n",
        "\n",
        "> 8 Oct, 2024\n",
        "* Add markdown subtitles and format them\n",
        "* Rename `die_step()` -> `retract_step`\n",
        "* Remove `!pip install scipy` in **Setup**\n",
        "\n",
        "> Todo List\n",
        "* Remove `NumPy Array Quick Reviews`\n",
        "* Add function comments before submission"
      ]
    }
  ],
  "metadata": {
    "colab": {
      "provenance": [],
      "toc_visible": true
    },
    "kernelspec": {
      "display_name": "Python 3",
      "name": "python3"
    },
    "language_info": {
      "codemirror_mode": {
        "name": "ipython",
        "version": 3
      },
      "file_extension": ".py",
      "mimetype": "text/x-python",
      "name": "python",
      "nbconvert_exporter": "python",
      "pygments_lexer": "ipython3",
      "version": "3.11.9"
    }
  },
  "nbformat": 4,
  "nbformat_minor": 0
}
