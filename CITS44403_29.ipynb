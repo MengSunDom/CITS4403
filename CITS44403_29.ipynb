{
  "cells": [
    {
      "cell_type": "markdown",
      "metadata": {
        "id": "LcTAuxuhOUNM"
      },
      "source": [
        "# The Foraging of Slime Mold\n",
        "\n",
        "总之我在试着以“仿写一个Lab”的标准写`.ipynb`文档\n",
        "\n",
        "\n",
        "---\n",
        "\n"
      ]
    },
    {
      "cell_type": "markdown",
      "metadata": {
        "id": "66cQUjwWG29n"
      },
      "source": [
        "# Setup"
      ]
    },
    {
      "cell_type": "markdown",
      "metadata": {
        "id": "FNZbIsMxGNkv"
      },
      "source": [
        "## Installing Libraries"
      ]
    },
    {
      "cell_type": "code",
      "execution_count": 1,
      "metadata": {
        "colab": {
          "base_uri": "https://localhost:8080/"
        },
        "id": "tGCwk0RPGNHs",
        "outputId": "9b8ee9d6-ebf4-4a64-d705-cf3451e7ba01"
      },
      "outputs": [
        {
          "name": "stdout",
          "output_type": "stream",
          "text": [
            "Defaulting to user installation because normal site-packages is not writeable\n",
            "Requirement already satisfied: matplotlib in c:\\users\\孙蒙\\appdata\\local\\packages\\pythonsoftwarefoundation.python.3.12_qbz5n2kfra8p0\\localcache\\local-packages\\python312\\site-packages (3.9.2)\n",
            "Requirement already satisfied: contourpy>=1.0.1 in c:\\users\\孙蒙\\appdata\\local\\packages\\pythonsoftwarefoundation.python.3.12_qbz5n2kfra8p0\\localcache\\local-packages\\python312\\site-packages (from matplotlib) (1.3.0)\n",
            "Requirement already satisfied: cycler>=0.10 in c:\\users\\孙蒙\\appdata\\local\\packages\\pythonsoftwarefoundation.python.3.12_qbz5n2kfra8p0\\localcache\\local-packages\\python312\\site-packages (from matplotlib) (0.12.1)\n",
            "Requirement already satisfied: fonttools>=4.22.0 in c:\\users\\孙蒙\\appdata\\local\\packages\\pythonsoftwarefoundation.python.3.12_qbz5n2kfra8p0\\localcache\\local-packages\\python312\\site-packages (from matplotlib) (4.54.1)\n",
            "Requirement already satisfied: kiwisolver>=1.3.1 in c:\\users\\孙蒙\\appdata\\local\\packages\\pythonsoftwarefoundation.python.3.12_qbz5n2kfra8p0\\localcache\\local-packages\\python312\\site-packages (from matplotlib) (1.4.7)\n",
            "Requirement already satisfied: numpy>=1.23 in c:\\users\\孙蒙\\appdata\\local\\packages\\pythonsoftwarefoundation.python.3.12_qbz5n2kfra8p0\\localcache\\local-packages\\python312\\site-packages (from matplotlib) (2.1.1)\n",
            "Requirement already satisfied: packaging>=20.0 in c:\\users\\孙蒙\\appdata\\local\\packages\\pythonsoftwarefoundation.python.3.12_qbz5n2kfra8p0\\localcache\\local-packages\\python312\\site-packages (from matplotlib) (24.1)\n",
            "Requirement already satisfied: pillow>=8 in c:\\users\\孙蒙\\appdata\\local\\packages\\pythonsoftwarefoundation.python.3.12_qbz5n2kfra8p0\\localcache\\local-packages\\python312\\site-packages (from matplotlib) (10.4.0)\n",
            "Requirement already satisfied: pyparsing>=2.3.1 in c:\\users\\孙蒙\\appdata\\local\\packages\\pythonsoftwarefoundation.python.3.12_qbz5n2kfra8p0\\localcache\\local-packages\\python312\\site-packages (from matplotlib) (3.1.4)\n",
            "Requirement already satisfied: python-dateutil>=2.7 in c:\\users\\孙蒙\\appdata\\local\\packages\\pythonsoftwarefoundation.python.3.12_qbz5n2kfra8p0\\localcache\\local-packages\\python312\\site-packages (from matplotlib) (2.9.0.post0)\n",
            "Requirement already satisfied: six>=1.5 in c:\\users\\孙蒙\\appdata\\local\\packages\\pythonsoftwarefoundation.python.3.12_qbz5n2kfra8p0\\localcache\\local-packages\\python312\\site-packages (from python-dateutil>=2.7->matplotlib) (1.16.0)\n",
            "Defaulting to user installation because normal site-packages is not writeable\n",
            "Requirement already satisfied: pandas in c:\\users\\孙蒙\\appdata\\local\\packages\\pythonsoftwarefoundation.python.3.12_qbz5n2kfra8p0\\localcache\\local-packages\\python312\\site-packages (2.2.3)\n",
            "Requirement already satisfied: numpy>=1.26.0 in c:\\users\\孙蒙\\appdata\\local\\packages\\pythonsoftwarefoundation.python.3.12_qbz5n2kfra8p0\\localcache\\local-packages\\python312\\site-packages (from pandas) (2.1.1)\n",
            "Requirement already satisfied: python-dateutil>=2.8.2 in c:\\users\\孙蒙\\appdata\\local\\packages\\pythonsoftwarefoundation.python.3.12_qbz5n2kfra8p0\\localcache\\local-packages\\python312\\site-packages (from pandas) (2.9.0.post0)\n",
            "Requirement already satisfied: pytz>=2020.1 in c:\\users\\孙蒙\\appdata\\local\\packages\\pythonsoftwarefoundation.python.3.12_qbz5n2kfra8p0\\localcache\\local-packages\\python312\\site-packages (from pandas) (2024.2)\n",
            "Requirement already satisfied: tzdata>=2022.7 in c:\\users\\孙蒙\\appdata\\local\\packages\\pythonsoftwarefoundation.python.3.12_qbz5n2kfra8p0\\localcache\\local-packages\\python312\\site-packages (from pandas) (2024.2)\n",
            "Requirement already satisfied: six>=1.5 in c:\\users\\孙蒙\\appdata\\local\\packages\\pythonsoftwarefoundation.python.3.12_qbz5n2kfra8p0\\localcache\\local-packages\\python312\\site-packages (from python-dateutil>=2.8.2->pandas) (1.16.0)\n",
            "Defaulting to user installation because normal site-packages is not writeable\n",
            "Requirement already satisfied: seaborn in c:\\users\\孙蒙\\appdata\\local\\packages\\pythonsoftwarefoundation.python.3.12_qbz5n2kfra8p0\\localcache\\local-packages\\python312\\site-packages (0.13.2)\n",
            "Requirement already satisfied: numpy!=1.24.0,>=1.20 in c:\\users\\孙蒙\\appdata\\local\\packages\\pythonsoftwarefoundation.python.3.12_qbz5n2kfra8p0\\localcache\\local-packages\\python312\\site-packages (from seaborn) (2.1.1)\n",
            "Requirement already satisfied: pandas>=1.2 in c:\\users\\孙蒙\\appdata\\local\\packages\\pythonsoftwarefoundation.python.3.12_qbz5n2kfra8p0\\localcache\\local-packages\\python312\\site-packages (from seaborn) (2.2.3)\n",
            "Requirement already satisfied: matplotlib!=3.6.1,>=3.4 in c:\\users\\孙蒙\\appdata\\local\\packages\\pythonsoftwarefoundation.python.3.12_qbz5n2kfra8p0\\localcache\\local-packages\\python312\\site-packages (from seaborn) (3.9.2)\n",
            "Requirement already satisfied: contourpy>=1.0.1 in c:\\users\\孙蒙\\appdata\\local\\packages\\pythonsoftwarefoundation.python.3.12_qbz5n2kfra8p0\\localcache\\local-packages\\python312\\site-packages (from matplotlib!=3.6.1,>=3.4->seaborn) (1.3.0)\n",
            "Requirement already satisfied: cycler>=0.10 in c:\\users\\孙蒙\\appdata\\local\\packages\\pythonsoftwarefoundation.python.3.12_qbz5n2kfra8p0\\localcache\\local-packages\\python312\\site-packages (from matplotlib!=3.6.1,>=3.4->seaborn) (0.12.1)\n",
            "Requirement already satisfied: fonttools>=4.22.0 in c:\\users\\孙蒙\\appdata\\local\\packages\\pythonsoftwarefoundation.python.3.12_qbz5n2kfra8p0\\localcache\\local-packages\\python312\\site-packages (from matplotlib!=3.6.1,>=3.4->seaborn) (4.54.1)\n",
            "Requirement already satisfied: kiwisolver>=1.3.1 in c:\\users\\孙蒙\\appdata\\local\\packages\\pythonsoftwarefoundation.python.3.12_qbz5n2kfra8p0\\localcache\\local-packages\\python312\\site-packages (from matplotlib!=3.6.1,>=3.4->seaborn) (1.4.7)\n",
            "Requirement already satisfied: packaging>=20.0 in c:\\users\\孙蒙\\appdata\\local\\packages\\pythonsoftwarefoundation.python.3.12_qbz5n2kfra8p0\\localcache\\local-packages\\python312\\site-packages (from matplotlib!=3.6.1,>=3.4->seaborn) (24.1)\n",
            "Requirement already satisfied: pillow>=8 in c:\\users\\孙蒙\\appdata\\local\\packages\\pythonsoftwarefoundation.python.3.12_qbz5n2kfra8p0\\localcache\\local-packages\\python312\\site-packages (from matplotlib!=3.6.1,>=3.4->seaborn) (10.4.0)\n",
            "Requirement already satisfied: pyparsing>=2.3.1 in c:\\users\\孙蒙\\appdata\\local\\packages\\pythonsoftwarefoundation.python.3.12_qbz5n2kfra8p0\\localcache\\local-packages\\python312\\site-packages (from matplotlib!=3.6.1,>=3.4->seaborn) (3.1.4)\n",
            "Requirement already satisfied: python-dateutil>=2.7 in c:\\users\\孙蒙\\appdata\\local\\packages\\pythonsoftwarefoundation.python.3.12_qbz5n2kfra8p0\\localcache\\local-packages\\python312\\site-packages (from matplotlib!=3.6.1,>=3.4->seaborn) (2.9.0.post0)\n",
            "Requirement already satisfied: pytz>=2020.1 in c:\\users\\孙蒙\\appdata\\local\\packages\\pythonsoftwarefoundation.python.3.12_qbz5n2kfra8p0\\localcache\\local-packages\\python312\\site-packages (from pandas>=1.2->seaborn) (2024.2)\n",
            "Requirement already satisfied: tzdata>=2022.7 in c:\\users\\孙蒙\\appdata\\local\\packages\\pythonsoftwarefoundation.python.3.12_qbz5n2kfra8p0\\localcache\\local-packages\\python312\\site-packages (from pandas>=1.2->seaborn) (2024.2)\n",
            "Requirement already satisfied: six>=1.5 in c:\\users\\孙蒙\\appdata\\local\\packages\\pythonsoftwarefoundation.python.3.12_qbz5n2kfra8p0\\localcache\\local-packages\\python312\\site-packages (from python-dateutil>=2.7->matplotlib!=3.6.1,>=3.4->seaborn) (1.16.0)\n",
            "Defaulting to user installation because normal site-packages is not writeable\n",
            "Requirement already satisfied: scipy in c:\\users\\孙蒙\\appdata\\local\\packages\\pythonsoftwarefoundation.python.3.12_qbz5n2kfra8p0\\localcache\\local-packages\\python312\\site-packages (1.14.1)\n",
            "Requirement already satisfied: numpy<2.3,>=1.23.5 in c:\\users\\孙蒙\\appdata\\local\\packages\\pythonsoftwarefoundation.python.3.12_qbz5n2kfra8p0\\localcache\\local-packages\\python312\\site-packages (from scipy) (2.1.1)\n"
          ]
        }
      ],
      "source": [
        "!pip install matplotlib\n",
        "!pip install pandas\n",
        "!pip install seaborn\n",
        "!pip install scipy"
      ]
    },
    {
      "cell_type": "markdown",
      "metadata": {
        "id": "PO90DZ8hQpr6"
      },
      "source": [
        "## Downloading Python Scripts"
      ]
    },
    {
      "cell_type": "code",
      "execution_count": 2,
      "metadata": {
        "colab": {
          "base_uri": "https://localhost:8080/"
        },
        "id": "EiEDZKVDQtM0",
        "outputId": "ae04a7f4-708e-497b-8dc3-5c00a4870704"
      },
      "outputs": [
        {
          "name": "stderr",
          "output_type": "stream",
          "text": [
            "��Ŀ¼���ļ� -p �Ѿ����ڡ�\n",
            "����: -p ʱ������\n",
            "��Ŀ¼���ļ� figs �Ѿ����ڡ�\n",
            "����: figs ʱ������\n"
          ]
        }
      ],
      "source": [
        "import numpy as np\n",
        "\n",
        "from os.path import basename, exists\n",
        "\n",
        "def download(url):\n",
        "  filename = basename(url)\n",
        "  if not exists(filename):\n",
        "    from urllib.request import urlretrieve\n",
        "    local, _ = urlretrieve(url, filename)\n",
        "    print('Downloaded ' + local)\n",
        "\n",
        "download('https://github.com/AllenDowney/ThinkComplexity2/raw/master/notebooks/utils.py')\n",
        "download('https://github.com/AllenDowney/ThinkComplexity2/raw/master/notebooks/Cell2D.py')\n",
        "\n",
        "from utils import decorate, savefig\n",
        "\n",
        "# make a directory for figures\n",
        "!mkdir -p figs"
      ]
    },
    {
      "cell_type": "markdown",
      "metadata": {
        "id": "R1QfpdVnPCeL"
      },
      "source": [
        "# NumPy数组速查笔记\n",
        "摘抄ABM Lab里可能用到的东西\n",
        "\n"
      ]
    },
    {
      "cell_type": "markdown",
      "metadata": {
        "id": "NI4LJCg3SUxe"
      },
      "source": [
        "## NumPy数组\n",
        "`list()`创建一个列表\n",
        "\n",
        "[`numpy.array(object, dtype=None)`](https://numpy.org/doc/stable/reference/generated/numpy.array.html)创建一个NumPy数组类的实例`numpy.ndarray`，数组元素由传参决定\n",
        "* `dtype=None`默认自动选择合适的数据类型\n",
        "* `dtype=int8`选择8位整型以节省存储空间\n",
        "* **操作符**的**操作对象**基本被重载为对NumPy数组的每个元素\n",
        "* ### 元素数据类型转换\n",
        "[`array.astype(dtype)`](https://numpy.org/doc/stable/reference/generated/numpy.astype.html#numpy-astype)将NumPy数组的元素转换为指定数据类型，*不改变原数据*\n",
        "\n",
        "[`numpy.nonzero(array)`](https://numpy.org/doc/stable/reference/generated/numpy.nonzero.html)返回NumPy数组中非零元素的**索引数组**构成的元组，按维度的顺序进行分类\n",
        "\n",
        "* `*`用于解包可迭代对象以获取参数\n",
        "* `zip(*iterables)`将相同索引位置的解包值打包为元组\n",
        "\n",
        "[`numpy.shape(array)`](https://numpy.org/doc/stable/reference/generated/numpy.shape.html)NumPy数组特化的`len()`\n",
        "* `np.shape[1]`或`len(array[0])`: 返回x轴长\n",
        "* `np.shape[0]`或`len(array)`: 返回y轴长"
      ]
    },
    {
      "cell_type": "code",
      "execution_count": 4,
      "metadata": {
        "colab": {
          "base_uri": "https://localhost:8080/"
        },
        "id": "vAEkZbBzSS8E",
        "outputId": "930e8046-780d-4f86-9538-d03ada8b4ef1"
      },
      "outputs": [
        {
          "name": "stdout",
          "output_type": "stream",
          "text": [
            "<class 'list'>\n",
            "[[[3, 0, 0], [0, 4, 0], [5, 6, 0]]]\n",
            "<class 'numpy.ndarray'>\n",
            "[[3 0 0]\n",
            " [0 4 0]\n",
            " [5 6 0]]\n",
            "(array([0, 1, 2, 2]), array([0, 1, 0, 1]))\n",
            "[0 1 2 2] [0 1 0 1]\n",
            "[(np.int64(0), np.int64(0)), (np.int64(1), np.int64(1)), (np.int64(2), np.int64(0)), (np.int64(2), np.int64(1))]\n",
            "<class 'numpy.ndarray'>\n",
            "[[13 10 10]\n",
            " [10 14 10]\n",
            " [15 16 10]]\n",
            "<class 'numpy.ndarray'>\n",
            "[[0 1 1]\n",
            " [1 0 1]\n",
            " [0 0 1]]\n",
            "[[False  True  True]\n",
            " [ True False  True]\n",
            " [False False  True]]\n"
          ]
        }
      ],
      "source": [
        "x = [[[3, 0, 0], [0, 4, 0], [5, 6, 0]]]\n",
        "y = np.array([[3, 0, 0], [0, 4, 0], [5, 6, 0]], dtype=None)\n",
        "print(type(x))\n",
        "print(x)\n",
        "\n",
        "print(type(y))\n",
        "print(y)\n",
        "print(np.nonzero(y))\n",
        "print(*np.nonzero(y))\n",
        "print(list(zip(*np.nonzero(y))))\n",
        "\n",
        "print(type(y))\n",
        "print(y+10)   # + - = 之类的操作符被重载为对数组的每个元素都生效\n",
        "\n",
        "z = y==0\n",
        "print(type(z))\n",
        "print(z.astype('uint8'))\n",
        "print(z)"
      ]
    },
    {
      "cell_type": "markdown",
      "metadata": {
        "id": "WZruan11yac7"
      },
      "source": [
        "## 随机数"
      ]
    },
    {
      "cell_type": "markdown",
      "metadata": {
        "id": "fKV3Opdwvn4R"
      },
      "source": [
        "###概率分布\n",
        "[`numpy.random.choice(array, size=None, replace=True, p=None)`](https://numpy.org/doc/stable/reference/random/generated/numpy.random.choice.html)从给定的**一维数组**中随机选择数个元素，构建NumPy数组\n",
        "* `size=(n, m)`二维\n",
        "* `replace=True`默认允许元素的重复选取\n",
        "* `p=None`指定了数组中逐元素对应的概率，默认呈均匀分布"
      ]
    },
    {
      "cell_type": "code",
      "execution_count": 5,
      "metadata": {
        "colab": {
          "base_uri": "https://localhost:8080/"
        },
        "id": "bC9JxhkY5L-5",
        "outputId": "7446b93f-1a8f-4f16-b450-20ac1ee6650f"
      },
      "outputs": [
        {
          "data": {
            "text/plain": [
              "array([[0, 0, 1, 1, 0],\n",
              "       [0, 1, 1, 0, 1],\n",
              "       [2, 2, 1, 0, 1],\n",
              "       [1, 2, 2, 2, 2],\n",
              "       [1, 2, 2, 1, 0]], dtype=int8)"
            ]
          },
          "execution_count": 5,
          "metadata": {},
          "output_type": "execute_result"
        }
      ],
      "source": [
        "choices = np.array([0, 1, 2], dtype=np.int8)    # 8位的0,1,2\n",
        "probs = [0.2, 0.4, 0.4]\n",
        "\n",
        "test_array = np.random.choice(choices, (5, 5), p=probs)\n",
        "test_array"
      ]
    },
    {
      "cell_type": "markdown",
      "metadata": {
        "id": "Y6jRWmnKfuoG"
      },
      "source": [
        "### 乱序\n",
        "[`numpy.random.shuffle`](https://numpy.org/doc/stable/reference/random/generated/numpy.random.shuffle.html)沿着多位数组的第一个轴对数据进行打乱，子数组的顺序发生改变"
      ]
    },
    {
      "cell_type": "code",
      "execution_count": 6,
      "metadata": {
        "colab": {
          "base_uri": "https://localhost:8080/"
        },
        "id": "t58BkbIEgFOF",
        "outputId": "11f280a5-ed4f-4f65-dbf8-5c656d61fcfd"
      },
      "outputs": [
        {
          "name": "stdout",
          "output_type": "stream",
          "text": [
            "[3, 9, 1, 2, 6, 0, 7, 8, 4, 5]\n"
          ]
        },
        {
          "data": {
            "text/plain": [
              "array([1, 3, 4, 9, 8, 0, 5, 2, 6, 7])"
            ]
          },
          "execution_count": 6,
          "metadata": {},
          "output_type": "execute_result"
        }
      ],
      "source": [
        "ls = list(range(10))\n",
        "np.random.shuffle(ls)\n",
        "print(ls)\n",
        "\n",
        "arr = np.arange(10)\n",
        "np.random.shuffle(arr)\n",
        "arr"
      ]
    },
    {
      "cell_type": "markdown",
      "metadata": {
        "id": "dQvz_joONd99"
      },
      "source": [
        "## 互相关 Cross-Correlation\n",
        "原理见CA Lab 1-2"
      ]
    },
    {
      "cell_type": "code",
      "execution_count": 7,
      "metadata": {
        "colab": {
          "base_uri": "https://localhost:8080/"
        },
        "id": "0FY1XHoXPpst",
        "outputId": "d150d0d4-ab53-40ff-aeb1-caac2df352f1"
      },
      "outputs": [
        {
          "data": {
            "text/plain": [
              "array([[ 5,  8,  8,  6,  4],\n",
              "       [ 7,  7,  6,  6,  4],\n",
              "       [10, 10, 10, 10,  8],\n",
              "       [12, 13, 12,  9,  8],\n",
              "       [ 7,  9, 11, 10,  8]], dtype=int8)"
            ]
          },
          "execution_count": 7,
          "metadata": {},
          "output_type": "execute_result"
        }
      ],
      "source": [
        "from scipy.signal import correlate2d\n",
        "\n",
        "options = dict(mode='same', boundary='wrap')\n",
        "kernel = np.array([[1, 1, 1],\n",
        "          [1, 0, 1],\n",
        "          [1, 1, 1]], dtype=np.int8)         # cross-correlation基于位置求积的和\n",
        "# count the number of red neighbours\n",
        "correlate2d(test_array, kernel, **options)            # **将dict解包为关键字参数\n",
        "correlate2d(test_array, kernel, mode='same', boundary='wrap')  # 等价写法"
      ]
    },
    {
      "cell_type": "markdown",
      "metadata": {
        "id": "2kAPjJ2IenJU"
      },
      "source": [
        "## 可视化的主题色"
      ]
    },
    {
      "cell_type": "code",
      "execution_count": 8,
      "metadata": {
        "colab": {
          "base_uri": "https://localhost:8080/",
          "height": 148
        },
        "id": "q6U_v7HLfDYk",
        "outputId": "5bef5f2f-460b-49ca-fa8d-5b2cd29de223"
      },
      "outputs": [
        {
          "data": {
            "image/png": "[encoded data removed]",
            "text/plain": [
              "<Figure size 640x480 with 1 Axes>"
            ]
          },
          "metadata": {},
          "output_type": "display_data"
        }
      ],
      "source": [
        "import seaborn as sns\n",
        "from matplotlib.colors import LinearSegmentedColormap\n",
        "import numpy as np\n",
        "import matplotlib.pyplot as plt\n",
        "\n",
        "# 定义颜色映射\n",
        "palette = sns.color_palette('muted')      # 中等饱和度的预定义调色板\n",
        "colors = [palette[0], palette[1], palette[2], palette[3], palette[4], palette[6]]\n",
        "cmap = LinearSegmentedColormap.from_list(\"cmap\", colors)\n",
        "\n",
        "# 创建数据\n",
        "data = np.array([[0,1,2,3,4,5]], dtype=None)\n",
        "\n",
        "# 绘制热图\n",
        "plt.imshow(data, cmap=cmap, vmin=0, vmax=6)\n",
        "plt.xticks(np.arange(0, data.shape[1], step=1))\n",
        "plt.show()"
      ]
    },
    {
      "cell_type": "markdown",
      "metadata": {
        "id": "HRd5uqPGUH7b"
      },
      "source": [
        "# 黏菌的行为模式设计"
      ]
    },
    {
      "cell_type": "markdown",
      "metadata": {
        "id": "zj7uEjs8JSdk"
      },
      "source": [
        "* 黏菌生活在二维离散的迷宫（培养皿）中，其通过数条伪足探索迷宫试图找到唯一的燕麦\n",
        "  * 初始化随机但不一定连续的墙柱\n",
        "* 伪足的产生需要消耗能量，只有成功找到燕麦的伪足不会饿死\n",
        " * 假设伪足无法斜向蔓延，以避免三包一时的“穿墙”问题\n",
        " * 蔓延速度决定了每一步的蔓延格数\n",
        "    * 每步的蔓延速度如何对应DFS栈/BFS队列的深度？——每一步只能消耗有限的能量用于`pop()`\n",
        "* 随着时间推移，呈现 少-广-精 的变化\n",
        "  * 折线图的纵轴是什么？——占地面积\n",
        "* More rules\n",
        "  * 多个黏菌与多个燕麦\n",
        "  * 黏菌的合作\n",
        "  * 黏菌本体的死亡\n"
      ]
    },
    {
      "cell_type": "markdown",
      "metadata": {
        "id": "RW7UJbJvwGWl"
      },
      "source": [
        "# Custom Color Map 调色盘示例"
      ]
    },
    {
      "cell_type": "code",
      "execution_count": 9,
      "metadata": {
        "colab": {
          "base_uri": "https://localhost:8080/",
          "height": 131
        },
        "id": "X1IVfI2XwKnt",
        "outputId": "f2082b69-d076-43ac-b48e-27eeccecadf5"
      },
      "outputs": [
        {
          "data": {
            "image/png": "[encoded data removed]",
            "text/plain": [
              "<Figure size 640x480 with 1 Axes>"
            ]
          },
          "metadata": {},
          "output_type": "display_data"
        }
      ],
      "source": [
        "import seaborn as sns\n",
        "from matplotlib.colors import LinearSegmentedColormap\n",
        "import matplotlib.pyplot as plt\n",
        "import numpy as np\n",
        "\n",
        "# make a custom color map\n",
        "palette = sns.color_palette('muted')\n",
        "colors = [\"white\", \"black\", palette[0], palette[1], \"green\", palette[2], palette[3]]\n",
        "cmap = LinearSegmentedColormap.from_list(\"cmap\", colors)\n",
        "\n",
        "# make a color dict\n",
        "color = {\n",
        "    \"white\" : 0,\n",
        "    \"black\" : 1,\n",
        "    \"blue\" : 2,\n",
        "    \"orange\" : 3,\n",
        "    \"green\" : 4,\n",
        "    \"light_green\" : 5,\n",
        "    \"red\" : 6\n",
        "}\n",
        "\n",
        "# map item to color\n",
        "item_color = {\n",
        "    \"path\" : \"white\",\n",
        "    \"wall\" : \"black\",\n",
        "    \"oat\" : \"red\",\n",
        "    \"mold\" : \"green\",\n",
        "    \"growth\" : \"light_green\"\n",
        "}\n",
        "\n",
        "# demo\n",
        "colors_demo = np.arange(7).reshape(1, -1)\n",
        "draw_params = {'cmap': cmap, 'vmin': 0, 'vmax': 6, 'alpha': 1}\n",
        "\n",
        "# show palette\n",
        "plt.imshow(colors_demo, cmap=cmap, vmin=0, vmax=6)\n",
        "plt.xticks(np.arange(0, colors_demo.shape[1], step=1))\n",
        "plt.yticks([])  # remove y-axis\n",
        "plt.show()"
      ]
    },
    {
      "cell_type": "markdown",
      "metadata": {
        "id": "qAfRA-dZv1Sl"
      },
      "source": [
        "# Model Implementation 代码实现"
      ]
    },
    {
      "cell_type": "code",
      "execution_count": 41,
      "metadata": {
        "id": "4vp9Okxv2T3L"
      },
      "outputs": [],
      "source": [
        "from Cell2D import Cell2D, draw_array\n",
        "from utils import three_frame\n",
        "from IPython.display import clear_output\n",
        "from time import sleep\n",
        "\n",
        "class SlimeMoldForaging(Cell2D):\n",
        "\n",
        "  def __init__(self, height=19, width=19):\n",
        "    # create a 2-D array filled with 1, namely solid wall\n",
        "    self.height = height\n",
        "    self.width = width\n",
        "    self.array = np.ones((height, width), dtype=np.int8)  # the maze\n",
        "    self.start_x = np.random.randint(0, (width // 2)) * 2 + 1\n",
        "    self.start_y = np.random.randint(0, (height // 2)) * 2 + 1\n",
        "    self.array[self.start_y][self.start_x] = 0\n",
        "    self.stack = [(self.start_x, self.start_y)]\n",
        "    self.queue = []\n",
        "\n",
        "  def place_item(self, item):\n",
        "    if len(np.argwhere(self.array == color[item_color[item]])) != 0:\n",
        "      return\n",
        "\n",
        "    # find all pathway cells\n",
        "    paths = np.argwhere(self.array == color[item_color[\"path\"]])\n",
        "\n",
        "    # Randomly place item\n",
        "    item_index = np.random.choice(len(paths))\n",
        "    item_coord = paths[item_index]\n",
        "\n",
        "    # map the item to color, then to index\n",
        "    self.array[item_coord[0], item_coord[1]] = color[item_color[item]]\n",
        "\n",
        "    if item == \"mold\":\n",
        "      mold_coord = np.argwhere(self.array == color[item_color[\"mold\"]])[0]\n",
        "      mold_x = mold_coord[1]\n",
        "      mold_y = mold_coord[0]\n",
        "      self.queue.append((int(mold_x), int(mold_y)))\n",
        "\n",
        "  def carve_pathway(self):\n",
        "    while self.stack:\n",
        "      self.step(\"carve_pathway\")\n",
        "\n",
        "  def carve_pathway_step(self):\n",
        "    \"\"\"Essentially based on DFS\"\"\"\n",
        "    if self.stack:\n",
        "      x, y = self.stack[-1]          # get the last one rather than pop() it\n",
        "      carve_directions = [(0, 2), (0, -2), (2, 0), (-2, 0)]\n",
        "      np.random.shuffle(carve_directions)     # Randomness of direction chosen\n",
        "\n",
        "      carved = False              # dead end flag\n",
        "      for direct_x, direct_y in carve_directions:\n",
        "        new_x = x + direct_x\n",
        "        new_y = y + direct_y\n",
        "        if 0 <= new_x < self.array.shape[1] and 0 <= new_y < self.array.shape[0] and self.array[new_y][new_x] == color[item_color[\"wall\"]]:\n",
        "          self.array[y + direct_y // 2][x + direct_x // 2] = 0\n",
        "          self.array[new_y][new_x] = color[item_color[\"path\"]]\n",
        "          self.stack.append((new_x, new_y))\n",
        "          carved = True\n",
        "          break\n",
        "\n",
        "      # dead end\n",
        "      if not carved:\n",
        "        self.stack.pop()\n",
        "\n",
        "  def forage(self):\n",
        "    while self.queue:\n",
        "        self.forage_step()\n",
        "\n",
        "  def forage_step(self):\n",
        "    \"\"\"Essentially based on BFS\"\"\"\n",
        "    if self.queue:\n",
        "      x, y = self.queue.pop(0)  # 从队列获取第一个元素\n",
        "\n",
        "      # 方向: 上, 下, 左, 右\n",
        "      forage_directions = [(0, 1), (0, -1), (1, 0), (-1, 0)]\n",
        "\n",
        "      for direct_x, direct_y in forage_directions:\n",
        "        new_x = x + direct_x\n",
        "        new_y = y + direct_y\n",
        "\n",
        "        if 0 <= new_x < self.array.shape[1] and 0 <= new_y < self.array.shape[0] and self.array[new_y][new_x] in [color[item_color[\"path\"]], color[item_color[\"oat\"]]]:\n",
        "          if self.array[new_y][new_x] != color[item_color[\"oat\"]]:\n",
        "            self.array[new_y][new_x] = color[item_color[\"growth\"]]\n",
        "          self.queue.append((new_x, new_y))\n",
        "\n",
        "  def step(self, process):\n",
        "    \"\"\"Performs one step of the maze carving\n",
        "\n",
        "    called by Cell2D.py\n",
        "\n",
        "    process: the stage of model\n",
        "    \"\"\"\n",
        "    if process == \"carve_pathway\":\n",
        "      self.carve_pathway_step()\n",
        "    elif process == \"forage\":\n",
        "      self.forage_step()\n",
        "\n",
        "  def loop(self, process, iters=1):\n",
        "    \"\"\"Runs the given number of steps.\n",
        "\n",
        "    refactor Cell2D.loop()\n",
        "\n",
        "    process: the stage of model\n",
        "    \"\"\"\n",
        "    for i in range(iters):\n",
        "      self.step(process)\n",
        "\n",
        "  def animate(self, process, frames, interval=None, step=None):\n",
        "    \"\"\"Animate the automaton.\n",
        "\n",
        "    refactor Cell2D.animate()\n",
        "\n",
        "    process: the stage of model\n",
        "    frames: number of frames to draw\n",
        "    interval: time between frames in seconds\n",
        "    iters: number of steps between frames\n",
        "    \"\"\"\n",
        "    if step is None:\n",
        "        step = self.step\n",
        "\n",
        "    plt.figure()\n",
        "    try:\n",
        "        for i in range(frames-1):\n",
        "            self.draw()\n",
        "            plt.show()\n",
        "            if interval:\n",
        "                sleep(interval)\n",
        "            step(process)\n",
        "            clear_output(wait=True)\n",
        "        self.draw()\n",
        "        plt.show()\n",
        "    except KeyboardInterrupt:\n",
        "        pass\n",
        "\n",
        "  def draw(self):\n",
        "    plt.imshow(self.array, cmap=cmap, vmin=0, vmax=6)\n",
        "    plt.axis('off')\n",
        "\n",
        "def three_frame(world, process, n_seq, seed=17):\n",
        "    \"\"\"Customized parameters of three_frame() to show frames in different stages of SlimeMoldForaging modelling\n",
        "\n",
        "    modify three_frame() from utils.py\n",
        "    \"\"\"\n",
        "    np.random.seed(seed)\n",
        "    plt.figure(figsize=(10, 4))\n",
        "\n",
        "    for i, n in enumerate(n_seq):\n",
        "        plt.subplot(1, 3, i+1)\n",
        "        world.loop(process, n)\n",
        "        world.draw()\n",
        "\n",
        "    plt.tight_layout()"
      ]
    },
    {
      "cell_type": "code",
      "execution_count": 205,
      "metadata": {},
      "outputs": [],
      "source": [
        "from Cell2D import Cell2D, draw_array\n",
        "\n",
        "class SlimeMoldForaging(Cell2D):\n",
        "  def __init__(self, height=19, width=19):\n",
        "      super().__init__(height, width)\n",
        "      self.height = height  # 保存为类属性\n",
        "      self.width = width  # 保存为类属性\n",
        "      self.array = np.ones((height, width), dtype=np.int8)  # 初始化墙壁\n",
        "      self.start_x, self.start_y = self.random_odd_coords()\n",
        "      self.array[self.start_y, self.start_x] = 0  # 设置起始点为路径\n",
        "      self.stack = [(self.start_x, self.start_y)]  # 迷宫生成的栈\n",
        "      self.queue = []  # BFS 队列\n",
        "      self.process = \"\"\n",
        "\n",
        "  def random_odd_coords(self):\n",
        "      \"\"\"生成随机奇数坐标\"\"\"\n",
        "      return np.random.randint(0, (self.width // 2)) * 2 + 1, np.random.randint(0, (self.height // 2)) * 2 + 1\n",
        "\n",
        "  def place_item(self, item):\n",
        "      \"\"\"随机放置指定的物品在路径上\"\"\"\n",
        "      if np.any(self.array == color[item_color[item]]):\n",
        "          return\n",
        "\n",
        "      paths = np.argwhere(self.array == color[item_color[\"path\"]])\n",
        "      \n",
        "      item_coord = paths[np.random.choice(len(paths))]\n",
        "\n",
        "      self.array[item_coord[0], item_coord[1]] = color[item_color[item]]\n",
        "\n",
        "      if item == \"mold\":\n",
        "        mold_coord = np.argwhere(self.array == color[item_color[\"mold\"]])[0]\n",
        "        mold_x = mold_coord[1]\n",
        "        mold_y = mold_coord[0]\n",
        "        self.queue.append((int(mold_x), int(mold_y)))\n",
        "\n",
        "  def carve_pathway_step(self):\n",
        "      \"\"\"深度优先生成迷宫路径\"\"\"\n",
        "      if not self.stack:\n",
        "          return\n",
        "      \n",
        "      x, y = self.stack[-1]\n",
        "      carve_directions = [(0, 2), (0, -2), (2, 0), (-2, 0)]\n",
        "      np.random.shuffle(carve_directions)\n",
        "      \n",
        "      carved = False              # dead end flag\n",
        "      for direct_x, direct_y in carve_directions:\n",
        "        new_x = x + direct_x\n",
        "        new_y = y + direct_y\n",
        "        if 0 <= new_x < self.array.shape[1] and 0 <= new_y < self.array.shape[0] and self.array[new_y][new_x] == color[item_color[\"wall\"]]:\n",
        "          self.array[y + direct_y // 2][x + direct_x // 2] = 0\n",
        "          self.array[new_y][new_x] = color[item_color[\"path\"]]\n",
        "          self.stack.append((new_x, new_y))\n",
        "          carved = True\n",
        "          break\n",
        "\n",
        "      # dead end\n",
        "      if not carved:\n",
        "        self.stack.pop()\n",
        "\n",
        "  def forage_step(self):\n",
        "      \"\"\"广度优先搜索进行觅食\"\"\"\n",
        "      while self.stack:\n",
        "        if not self.queue:\n",
        "            return\n",
        "      \n",
        "      x, y = self.queue.pop(0)\n",
        "      forage_directions = [(0, 1), (0, -1), (1, 0), (-1, 0)]\n",
        "      \n",
        "      for dx, dy in forage_directions:\n",
        "          nx, ny = x + dx, y + dy\n",
        "          if self.in_bounds(nx, ny) and self.array[ny, nx] in [color[item_color[\"path\"]], color[item_color[\"oat\"]]]:\n",
        "              self.array[ny, nx] = color[item_color[\"growth\"]] if self.array[ny, nx] != color[item_color[\"oat\"]] else self.array[ny, nx]\n",
        "              self.queue.append((nx, ny))\n",
        "\n",
        "  def in_bounds(self, x, y):\n",
        "      \"\"\"检查坐标是否在数组边界内\"\"\"\n",
        "      return 0 <= x < self.width and 0 <= y < self.height\n",
        "\n",
        "  def step(self):\n",
        "      \"\"\"单步执行不同的过程\"\"\"\n",
        "      if self.process == \"carve_pathway\":\n",
        "          while self.stack:\n",
        "            self.carve_pathway_step()\n",
        "      elif self.process == \"step_carve_pathway\":\n",
        "         self.carve_pathway_step()\n",
        "      elif self.process == \"forage\":\n",
        "          while self.queue:\n",
        "            self.forage_step()\n",
        "      elif self.process == \"step_forage\":\n",
        "            self.forage_step()\n",
        "\n",
        "  def draw(self):\n",
        "    draw_array(self.array, **draw_params)   "
      ]
    },
    {
      "cell_type": "markdown",
      "metadata": {
        "id": "22V8o8cwlvBm"
      },
      "source": [
        "# Maze Initialization\n",
        "\n"
      ]
    },
    {
      "cell_type": "markdown",
      "metadata": {
        "id": "uvFn8OnW6bGd"
      },
      "source": [
        "## 1.1 Carving Pathway"
      ]
    },
    {
      "cell_type": "code",
      "execution_count": 160,
      "metadata": {
        "colab": {
          "base_uri": "https://localhost:8080/",
          "height": 406
        },
        "id": "hYz0W4GgcJ-p",
        "outputId": "cd1bf062-0847-43af-b032-a9f717b223ad"
      },
      "outputs": [
        {
          "data": {
            "image/png": "[encoded data removed]",
            "text/plain": [
              "<Figure size 640x480 with 1 Axes>"
            ]
          },
          "metadata": {},
          "output_type": "display_data"
        }
      ],
      "source": [
        "env = SlimeMoldForaging(height=19, width=19)    # width and height should preferably be odd nunmbers\n",
        "env.process = \"carve_pathway\"\n",
        "env.step()\n",
        "#env.carve_pathway()\n",
        "env.draw()"
      ]
    },
    {
      "cell_type": "markdown",
      "metadata": {
        "id": "k-WmtKc8ASYM"
      },
      "source": [
        "## 1.2 Place Mold and Oat"
      ]
    },
    {
      "cell_type": "code",
      "execution_count": 154,
      "metadata": {
        "colab": {
          "base_uri": "https://localhost:8080/",
          "height": 406
        },
        "id": "x0azjI1x36n2",
        "outputId": "36ec25e0-a68f-4718-a606-58d73dca2f9d"
      },
      "outputs": [
        {
          "data": {
            "image/png": "[encoded data removed]",
            "text/plain": [
              "<Figure size 640x480 with 1 Axes>"
            ]
          },
          "metadata": {},
          "output_type": "display_data"
        }
      ],
      "source": [
        "env.place_item(\"mold\")      # present mold in green\n",
        "env.place_item(\"oat\")       # present oat in red\n",
        "env.draw()"
      ]
    },
    {
      "cell_type": "markdown",
      "metadata": {
        "id": "HNBANXL7ccLk"
      },
      "source": [
        "## 1.3 Progress Visualization"
      ]
    },
    {
      "cell_type": "code",
      "execution_count": 163,
      "metadata": {
        "colab": {
          "base_uri": "https://localhost:8080/",
          "height": 350
        },
        "id": "sHrzlD8IHsDV",
        "outputId": "16578552-b004-4868-eb3f-12b3e89e65ce"
      },
      "outputs": [
        {
          "data": {
            "image/png": "[encoded data removed]",
            "text/plain": [
              "<Figure size 1000x400 with 3 Axes>"
            ]
          },
          "metadata": {},
          "output_type": "display_data"
        }
      ],
      "source": [
        "# Pathway carving frames\n",
        "demo = SlimeMoldForaging(height=19, width=19)    # width and height should preferably be odd nunmbers\n",
        "#three_frame(demo, \"carve_pathway\", n_seq = [0,1,2],seed=None)       # show frames at 50 and 150 steps\n",
        "demo.process = \"step_carve_pathway\"\n",
        "three_frame(demo, n_seq=[0,50,100],seed=None)       # show frames at 50 and 150 steps"
      ]
    },
    {
      "cell_type": "code",
      "execution_count": 177,
      "metadata": {
        "colab": {
          "base_uri": "https://localhost:8080/",
          "height": 406
        },
        "id": "NsdvprYD0ZA2",
        "outputId": "ec3fdcae-132c-4fb6-ccf0-ddd07b79acf3"
      },
      "outputs": [
        {
          "data": {
            "image/png": "[encoded data removed]",
            "text/plain": [
              "<Figure size 640x480 with 1 Axes>"
            ]
          },
          "metadata": {},
          "output_type": "display_data"
        }
      ],
      "source": [
        "# Pathway carving animation\n",
        "demo = SlimeMoldForaging(height=19, width=19)   # width and height should preferably be odd nunmbers\n",
        "demo.process = \"step_carve_pathway\"\n",
        "demo.animate(frames=150)"
      ]
    },
    {
      "cell_type": "markdown",
      "metadata": {
        "id": "M2Pu45PJ8qLf"
      },
      "source": [
        "# Mold Foraging"
      ]
    },
    {
      "cell_type": "markdown",
      "metadata": {
        "id": "DVFCERH37owH"
      },
      "source": [
        "## 2.1 Mold Foraging"
      ]
    },
    {
      "cell_type": "code",
      "execution_count": 206,
      "metadata": {
        "colab": {
          "base_uri": "https://localhost:8080/",
          "height": 406
        },
        "id": "tIfg1EqI7F3y",
        "outputId": "83922ba5-cd99-471a-fa79-25240003a0cb"
      },
      "outputs": [
        {
          "data": {
            "image/png": "[encoded data removed]",
            "text/plain": [
              "<Figure size 640x480 with 1 Axes>"
            ]
          },
          "metadata": {},
          "output_type": "display_data"
        }
      ],
      "source": [
        "#env.forage()\n",
        "env = SlimeMoldForaging(height=19, width=19)\n",
        "env.process = \"forage\"\n",
        "env.step(process = \"forage\")\n",
        "env.draw()"
      ]
    },
    {
      "cell_type": "markdown",
      "metadata": {
        "id": "3rl09D4d6ehf"
      },
      "source": [
        "## 2.2 Progress Visualization"
      ]
    },
    {
      "cell_type": "code",
      "execution_count": 195,
      "metadata": {
        "colab": {
          "base_uri": "https://localhost:8080/",
          "height": 350
        },
        "id": "Z-F06-8bEnsE",
        "outputId": "f0d19ac4-e657-40fa-b4e3-bbadd7cc6eb4"
      },
      "outputs": [
        {
          "data": {
            "image/png": "[encoded data removed]",
            "text/plain": [
              "<Figure size 1000x400 with 3 Axes>"
            ]
          },
          "metadata": {},
          "output_type": "display_data"
        }
      ],
      "source": [
        "# Foraging frames\n",
        "demo = SlimeMoldForaging(height=19, width=19)    # width and height should preferably be odd nunmbers\n",
        "demo.process = \"carve_pathway\"\n",
        "demo.step()\n",
        "demo.place_item(\"mold\")                 # present mold in green\n",
        "demo.place_item(\"oat\")                  # present oat in red\n",
        "demo.process = \"step_forage\"\n",
        "three_frame(demo, [0,50,100], seed=None)  # show frames at 50 and 100 steps"
      ]
    },
    {
      "cell_type": "code",
      "execution_count": 198,
      "metadata": {
        "colab": {
          "base_uri": "https://localhost:8080/",
          "height": 406
        },
        "id": "QuDf4Gph6h_z",
        "outputId": "5f5a5251-63a5-4715-ba94-43d76bfefea7"
      },
      "outputs": [
        {
          "data": {
            "image/png": "[encoded data removed]",
            "text/plain": [
              "<Figure size 640x480 with 1 Axes>"
            ]
          },
          "metadata": {},
          "output_type": "display_data"
        }
      ],
      "source": [
        "# Foraging animation\n",
        "demo = SlimeMoldForaging(height=19, width=19)    # width and height should preferably be odd nunmbers\n",
        "demo.process = \"carve_pathway\"\n",
        "demo.step()\n",
        "demo.place_item(\"mold\")                 # present mold in green\n",
        "demo.place_item(\"oat\")                  # present oat in red\n",
        "demo.process = \"step_forage\"\n",
        "demo.animate(frames=100)          # show frames at 50 and 150 steps"
      ]
    }
  ],
  "metadata": {
    "colab": {
      "provenance": [],
      "toc_visible": true
    },
    "kernelspec": {
      "display_name": "Python 3",
      "name": "python3"
    },
    "language_info": {
      "codemirror_mode": {
        "name": "ipython",
        "version": 3
      },
      "file_extension": ".py",
      "mimetype": "text/x-python",
      "name": "python",
      "nbconvert_exporter": "python",
      "pygments_lexer": "ipython3",
      "version": "3.12.7"
    }
  },
  "nbformat": 4,
  "nbformat_minor": 0
}
